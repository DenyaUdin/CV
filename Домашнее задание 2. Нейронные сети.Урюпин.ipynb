{
 "cells": [
  {
   "cell_type": "markdown",
   "metadata": {
    "id": "7uLSt3vBI0zr"
   },
   "source": [
    "# Домашнее задание 2. Нейронные сети\n",
    "## Урюпин ИУ8-84 Вариант 10\n"
   ]
  },
  {
   "cell_type": "markdown",
   "metadata": {
    "id": "2JxNVonhRMgf"
   },
   "source": [
    "В зависимости от варианта, для решения задачи используйте следующие наборы данных:\n",
    "\n",
    "<table>\n",
    "    <thead>\n",
    "         <tr>\n",
    "            <th colspan=1>Задача классификации</th>\n",
    "            <th colspan=5>Задача регрессии</th>\n",
    "        </tr>\n",
    "        <tr>\n",
    "            <th> </th>\n",
    "            <th>A</th>\n",
    "            <th>B</th>\n",
    "            <th>C</th>\n",
    "            <th>D</th>\n",
    "            <th>E</th>\n",
    "        </tr>\n",
    "    </thead>\n",
    "    <tbody>\n",
    "        <tr>\n",
    "            <td>K</td>\n",
    "            <td>1</td>\n",
    "            <td>2</td>\n",
    "            <td>3</td>\n",
    "            <td>4</td>\n",
    "            <td>5</td>\n",
    "        </tr>\n",
    "        <tr>\n",
    "            <td>L</td>\n",
    "            <td>6</td>\n",
    "            <td>7</td>\n",
    "            <td>8</td>\n",
    "            <td>9</td>\n",
    "            <td>10</td>\n",
    "        </tr>\n",
    "        <tr>\n",
    "            <td>M</td>\n",
    "            <td>11</td>\n",
    "            <td>12</td>\n",
    "            <td>13</td>\n",
    "            <td>14</td>\n",
    "            <td>15</td>\n",
    "        </tr>\n",
    "        <tr>\n",
    "            <td>N</td>\n",
    "            <td>16</td>\n",
    "            <td>17</td>\n",
    "            <td>18</td>\n",
    "            <td>19</td>\n",
    "            <td>20</td>\n",
    "        </tr>\n",
    "        <tr>\n",
    "            <td>O</td>\n",
    "            <td>21</td>\n",
    "            <td>22</td>\n",
    "            <td>23</td>\n",
    "            <td>24</td>\n",
    "            <td>25</td>\n",
    "        </tr>\n",
    "    </tbody>\n",
    "</table>\n",
    "\n",
    "### Наборы данных\n",
    "\n",
    "**Задача регрессии**\n",
    "\n",
    "A. [Набор данных](https://www.kaggle.com/aungpyaeap/fish-market) Таблица `Fish.csv`. Задача: построить модель, предсказывающую вес рыбы (колонка `Weight`). Baseline: RMSE (root mean square error) = 83.7\n",
    "\n",
    "B. [Набор данных](https://www.kaggle.com/nehalbirla/vehicle-dataset-from-cardekho) Таблица `Car details v3.csv`. Задача: построить модель, предсказывающую стоимость автомобиля (колонка `selling_price`). Baseline: RMSE (root mean square error) = 110000\n",
    "\n",
    "C. [Набор данных](https://www.kaggle.com/quantbruce/real-estate-price-prediction) Таблица `Real estate.csv`. Задача: построить модель, предсказывающую стоимость квадратного метра жилья (колонка `Y house price of unit area`). Baseline: RMSE (root mean square error) = 8\n",
    "\n",
    "D. [Набор данных](https://www.kaggle.com/mirichoi0218/insurance) Таблица `insurance.csv`. Задача: построить модель, предсказывающую стоимость медицинской страховки (колонка `charges`). Baseline: RMSE (root mean square error) = 5800\n",
    "\n",
    "E. [Набор данных](https://archive.ics.uci.edu/ml/machine-learning-databases/wine-quality/) Объединить таблицы `winequality-white.csv` и `winequality-red.csv`. Задача: построить модель, предсказывающую качество вина (колонка `quality`). Baseline: RMSE (root mean square error) = 0.8\n",
    "\n",
    "\n",
    "---\n",
    "\n",
    "**Задача классификации**\n",
    "\n",
    "K. [Набор данных](https://www.kaggle.com/c/jigsaw-toxic-comment-classification-challenge/data) Таблица `train.csv`. Задача: детектировать токсичные комментарии (0 или 1 в колонке `toxic`) исключительно по содержимому комментария (колонка `comment_text`). Baseline: sklearn.metrics.f1_score(average='macro') по колонке `toxic` = 0.86\n",
    "\n",
    "L. [Набор данных](https://www.kaggle.com/pavansubhasht/ibm-hr-analytics-attrition-dataset) Таблица `WA_Fn-UseC_-HR-Employee-Attrition.csv`. Задача: предсказать увольнение сотрудника (колонка `attrition`). Baseline: sklearn.metrics.f1_score(average='macro') = 0.70\n",
    "\n",
    "M. [Набор данных](https://www.kaggle.com/uciml/sms-spam-collection-dataset) Таблица `spam.csv` (при загрузку датасета в питоне использовать кодировку encoding='latin-1'). Задача: детектировать, является ли СМС-сообщение спамом. Baseline: sklearn.metrics.f1_score(average='macro') = 0.95\n",
    "\n",
    "N. [Набор данных](https://www.kaggle.com/uciml/pima-indians-diabetes-database) Таблица `diabetes.csv`. Задача: детектировать, есть ли у человека диабет. Baseline: sklearn.metrics.f1_score(average='macro') = 0.73\n",
    "\n",
    "O. [Набор данных](https://www.kaggle.com/fedesoriano/stroke-prediction-dataset) Таблица `healthcare-dataset-stroke-data.csv`. Задача: детектировать, был ли у человека инсульт. Baseline: sklearn.metrics.f1_score(average='macro') = 0.56\n"
   ]
  },
  {
   "cell_type": "markdown",
   "metadata": {
    "id": "zsqatIg_JBu7"
   },
   "source": [
    "# 0. Инициализация библиотек"
   ]
  },
  {
   "cell_type": "code",
   "execution_count": null,
   "metadata": {
    "id": "WGZt4ftTJxg4"
   },
   "outputs": [],
   "source": [
    "import numpy as np\n",
    "from tqdm import tqdm_notebook\n",
    "import matplotlib.pyplot as plt\n",
    "%matplotlib inline\n",
    "import pandas as pd\n",
    "\n",
    "import torch\n",
    "from torchvision import datasets, transforms\n",
    "from sklearn.model_selection import train_test_split\n",
    "import torch\n",
    "from torch import nn\n",
    "from torch.nn import functional as F\n",
    "import tensorflow as tf\n",
    "from torch.utils.data import TensorDataset, DataLoader\n",
    "from sklearn.metrics import f1_score\n",
    "from google.colab import drive\n",
    "from sklearn.metrics import mean_squared_error\n",
    "import math"
   ]
  },
  {
   "cell_type": "code",
   "execution_count": null,
   "metadata": {
    "colab": {
     "base_uri": "https://localhost:8080/"
    },
    "executionInfo": {
     "elapsed": 20624,
     "status": "ok",
     "timestamp": 1653252105699,
     "user": {
      "displayName": "Денис Урюпин",
      "userId": "09594062879991792072"
     },
     "user_tz": -180
    },
    "id": "lx5TbsRMgMgz",
    "outputId": "5ec8a990-52fd-41bc-b37f-fc8f9c9f172a"
   },
   "outputs": [
    {
     "name": "stdout",
     "output_type": "stream",
     "text": [
      "Mounted at /content/drive\n"
     ]
    }
   ],
   "source": [
    "from google.colab import drive\n",
    "drive.mount('/content/drive')"
   ]
  },
  {
   "cell_type": "markdown",
   "metadata": {
    "id": "sxfuSOvYSy6q"
   },
   "source": []
  },
  {
   "cell_type": "markdown",
   "metadata": {
    "id": "5oGgl1uGJBxH"
   },
   "source": [
    "# 1. Искусственная неронная сеть для решения задачи регрессии (9 баллов)"
   ]
  },
  {
   "cell_type": "markdown",
   "metadata": {
    "id": "qV47VXssLKa9"
   },
   "source": [
    "## 1.1 Загрузите данные, поделить на train и test\n",
    "\n"
   ]
  },
  {
   "cell_type": "code",
   "execution_count": null,
   "metadata": {
    "colab": {
     "base_uri": "https://localhost:8080/",
     "height": 285
    },
    "executionInfo": {
     "elapsed": 861,
     "status": "ok",
     "timestamp": 1653252161352,
     "user": {
      "displayName": "Денис Урюпин",
      "userId": "09594062879991792072"
     },
     "user_tz": -180
    },
    "id": "XjIoB9zTKAY2",
    "outputId": "74670cd2-1258-43e4-e5f6-4c1913defe06"
   },
   "outputs": [
    {
     "data": {
      "text/html": [
       "\n",
       "  <div id=\"df-0469fcb5-d266-4c1d-be7d-b1c468fd7c5e\">\n",
       "    <div class=\"colab-df-container\">\n",
       "      <div>\n",
       "<style scoped>\n",
       "    .dataframe tbody tr th:only-of-type {\n",
       "        vertical-align: middle;\n",
       "    }\n",
       "\n",
       "    .dataframe tbody tr th {\n",
       "        vertical-align: top;\n",
       "    }\n",
       "\n",
       "    .dataframe thead th {\n",
       "        text-align: right;\n",
       "    }\n",
       "</style>\n",
       "<table border=\"1\" class=\"dataframe\">\n",
       "  <thead>\n",
       "    <tr style=\"text-align: right;\">\n",
       "      <th></th>\n",
       "      <th>fixed acidity</th>\n",
       "      <th>volatile acidity</th>\n",
       "      <th>citric acid</th>\n",
       "      <th>residual sugar</th>\n",
       "      <th>chlorides</th>\n",
       "      <th>free sulfur dioxide</th>\n",
       "      <th>total sulfur dioxide</th>\n",
       "      <th>density</th>\n",
       "      <th>pH</th>\n",
       "      <th>sulphates</th>\n",
       "      <th>alcohol</th>\n",
       "      <th>quality</th>\n",
       "    </tr>\n",
       "  </thead>\n",
       "  <tbody>\n",
       "    <tr>\n",
       "      <th>0</th>\n",
       "      <td>7.4</td>\n",
       "      <td>0.70</td>\n",
       "      <td>0.00</td>\n",
       "      <td>1.9</td>\n",
       "      <td>0.076</td>\n",
       "      <td>11.0</td>\n",
       "      <td>34.0</td>\n",
       "      <td>0.9978</td>\n",
       "      <td>3.51</td>\n",
       "      <td>0.56</td>\n",
       "      <td>9.4</td>\n",
       "      <td>5</td>\n",
       "    </tr>\n",
       "    <tr>\n",
       "      <th>1</th>\n",
       "      <td>7.8</td>\n",
       "      <td>0.88</td>\n",
       "      <td>0.00</td>\n",
       "      <td>2.6</td>\n",
       "      <td>0.098</td>\n",
       "      <td>25.0</td>\n",
       "      <td>67.0</td>\n",
       "      <td>0.9968</td>\n",
       "      <td>3.20</td>\n",
       "      <td>0.68</td>\n",
       "      <td>9.8</td>\n",
       "      <td>5</td>\n",
       "    </tr>\n",
       "    <tr>\n",
       "      <th>2</th>\n",
       "      <td>7.8</td>\n",
       "      <td>0.76</td>\n",
       "      <td>0.04</td>\n",
       "      <td>2.3</td>\n",
       "      <td>0.092</td>\n",
       "      <td>15.0</td>\n",
       "      <td>54.0</td>\n",
       "      <td>0.9970</td>\n",
       "      <td>3.26</td>\n",
       "      <td>0.65</td>\n",
       "      <td>9.8</td>\n",
       "      <td>5</td>\n",
       "    </tr>\n",
       "    <tr>\n",
       "      <th>3</th>\n",
       "      <td>11.2</td>\n",
       "      <td>0.28</td>\n",
       "      <td>0.56</td>\n",
       "      <td>1.9</td>\n",
       "      <td>0.075</td>\n",
       "      <td>17.0</td>\n",
       "      <td>60.0</td>\n",
       "      <td>0.9980</td>\n",
       "      <td>3.16</td>\n",
       "      <td>0.58</td>\n",
       "      <td>9.8</td>\n",
       "      <td>6</td>\n",
       "    </tr>\n",
       "    <tr>\n",
       "      <th>4</th>\n",
       "      <td>7.4</td>\n",
       "      <td>0.70</td>\n",
       "      <td>0.00</td>\n",
       "      <td>1.9</td>\n",
       "      <td>0.076</td>\n",
       "      <td>11.0</td>\n",
       "      <td>34.0</td>\n",
       "      <td>0.9978</td>\n",
       "      <td>3.51</td>\n",
       "      <td>0.56</td>\n",
       "      <td>9.4</td>\n",
       "      <td>5</td>\n",
       "    </tr>\n",
       "  </tbody>\n",
       "</table>\n",
       "</div>\n",
       "      <button class=\"colab-df-convert\" onclick=\"convertToInteractive('df-0469fcb5-d266-4c1d-be7d-b1c468fd7c5e')\"\n",
       "              title=\"Convert this dataframe to an interactive table.\"\n",
       "              style=\"display:none;\">\n",
       "        \n",
       "  <svg xmlns=\"http://www.w3.org/2000/svg\" height=\"24px\"viewBox=\"0 0 24 24\"\n",
       "       width=\"24px\">\n",
       "    <path d=\"M0 0h24v24H0V0z\" fill=\"none\"/>\n",
       "    <path d=\"M18.56 5.44l.94 2.06.94-2.06 2.06-.94-2.06-.94-.94-2.06-.94 2.06-2.06.94zm-11 1L8.5 8.5l.94-2.06 2.06-.94-2.06-.94L8.5 2.5l-.94 2.06-2.06.94zm10 10l.94 2.06.94-2.06 2.06-.94-2.06-.94-.94-2.06-.94 2.06-2.06.94z\"/><path d=\"M17.41 7.96l-1.37-1.37c-.4-.4-.92-.59-1.43-.59-.52 0-1.04.2-1.43.59L10.3 9.45l-7.72 7.72c-.78.78-.78 2.05 0 2.83L4 21.41c.39.39.9.59 1.41.59.51 0 1.02-.2 1.41-.59l7.78-7.78 2.81-2.81c.8-.78.8-2.07 0-2.86zM5.41 20L4 18.59l7.72-7.72 1.47 1.35L5.41 20z\"/>\n",
       "  </svg>\n",
       "      </button>\n",
       "      \n",
       "  <style>\n",
       "    .colab-df-container {\n",
       "      display:flex;\n",
       "      flex-wrap:wrap;\n",
       "      gap: 12px;\n",
       "    }\n",
       "\n",
       "    .colab-df-convert {\n",
       "      background-color: #E8F0FE;\n",
       "      border: none;\n",
       "      border-radius: 50%;\n",
       "      cursor: pointer;\n",
       "      display: none;\n",
       "      fill: #1967D2;\n",
       "      height: 32px;\n",
       "      padding: 0 0 0 0;\n",
       "      width: 32px;\n",
       "    }\n",
       "\n",
       "    .colab-df-convert:hover {\n",
       "      background-color: #E2EBFA;\n",
       "      box-shadow: 0px 1px 2px rgba(60, 64, 67, 0.3), 0px 1px 3px 1px rgba(60, 64, 67, 0.15);\n",
       "      fill: #174EA6;\n",
       "    }\n",
       "\n",
       "    [theme=dark] .colab-df-convert {\n",
       "      background-color: #3B4455;\n",
       "      fill: #D2E3FC;\n",
       "    }\n",
       "\n",
       "    [theme=dark] .colab-df-convert:hover {\n",
       "      background-color: #434B5C;\n",
       "      box-shadow: 0px 1px 3px 1px rgba(0, 0, 0, 0.15);\n",
       "      filter: drop-shadow(0px 1px 2px rgba(0, 0, 0, 0.3));\n",
       "      fill: #FFFFFF;\n",
       "    }\n",
       "  </style>\n",
       "\n",
       "      <script>\n",
       "        const buttonEl =\n",
       "          document.querySelector('#df-0469fcb5-d266-4c1d-be7d-b1c468fd7c5e button.colab-df-convert');\n",
       "        buttonEl.style.display =\n",
       "          google.colab.kernel.accessAllowed ? 'block' : 'none';\n",
       "\n",
       "        async function convertToInteractive(key) {\n",
       "          const element = document.querySelector('#df-0469fcb5-d266-4c1d-be7d-b1c468fd7c5e');\n",
       "          const dataTable =\n",
       "            await google.colab.kernel.invokeFunction('convertToInteractive',\n",
       "                                                     [key], {});\n",
       "          if (!dataTable) return;\n",
       "\n",
       "          const docLinkHtml = 'Like what you see? Visit the ' +\n",
       "            '<a target=\"_blank\" href=https://colab.research.google.com/notebooks/data_table.ipynb>data table notebook</a>'\n",
       "            + ' to learn more about interactive tables.';\n",
       "          element.innerHTML = '';\n",
       "          dataTable['output_type'] = 'display_data';\n",
       "          await google.colab.output.renderOutput(dataTable, element);\n",
       "          const docLink = document.createElement('div');\n",
       "          docLink.innerHTML = docLinkHtml;\n",
       "          element.appendChild(docLink);\n",
       "        }\n",
       "      </script>\n",
       "    </div>\n",
       "  </div>\n",
       "  "
      ],
      "text/plain": [
       "   fixed acidity  volatile acidity  citric acid  residual sugar  chlorides  \\\n",
       "0            7.4              0.70         0.00             1.9      0.076   \n",
       "1            7.8              0.88         0.00             2.6      0.098   \n",
       "2            7.8              0.76         0.04             2.3      0.092   \n",
       "3           11.2              0.28         0.56             1.9      0.075   \n",
       "4            7.4              0.70         0.00             1.9      0.076   \n",
       "\n",
       "   free sulfur dioxide  total sulfur dioxide  density    pH  sulphates  \\\n",
       "0                 11.0                  34.0   0.9978  3.51       0.56   \n",
       "1                 25.0                  67.0   0.9968  3.20       0.68   \n",
       "2                 15.0                  54.0   0.9970  3.26       0.65   \n",
       "3                 17.0                  60.0   0.9980  3.16       0.58   \n",
       "4                 11.0                  34.0   0.9978  3.51       0.56   \n",
       "\n",
       "   alcohol  quality  \n",
       "0      9.4        5  \n",
       "1      9.8        5  \n",
       "2      9.8        5  \n",
       "3      9.8        6  \n",
       "4      9.4        5  "
      ]
     },
     "execution_count": 7,
     "metadata": {},
     "output_type": "execute_result"
    }
   ],
   "source": [
    "data_1 = pd.read_csv(\"/content/drive/MyDrive/Colab Notebooks/winequality-red.csv\", sep=';')\n",
    "data_1.head()\n"
   ]
  },
  {
   "cell_type": "code",
   "execution_count": null,
   "metadata": {
    "colab": {
     "base_uri": "https://localhost:8080/",
     "height": 267
    },
    "executionInfo": {
     "elapsed": 347,
     "status": "ok",
     "timestamp": 1653229818116,
     "user": {
      "displayName": "Денис Урюпин",
      "userId": "09594062879991792072"
     },
     "user_tz": -180
    },
    "id": "HwTeD9tUHQuu",
    "outputId": "cafa0a21-9798-440e-9a75-6f4946061d39"
   },
   "outputs": [
    {
     "data": {
      "text/html": [
       "\n",
       "  <div id=\"df-641ac482-8649-43da-ac33-0ba87cdcebff\">\n",
       "    <div class=\"colab-df-container\">\n",
       "      <div>\n",
       "<style scoped>\n",
       "    .dataframe tbody tr th:only-of-type {\n",
       "        vertical-align: middle;\n",
       "    }\n",
       "\n",
       "    .dataframe tbody tr th {\n",
       "        vertical-align: top;\n",
       "    }\n",
       "\n",
       "    .dataframe thead th {\n",
       "        text-align: right;\n",
       "    }\n",
       "</style>\n",
       "<table border=\"1\" class=\"dataframe\">\n",
       "  <thead>\n",
       "    <tr style=\"text-align: right;\">\n",
       "      <th></th>\n",
       "      <th>fixed acidity</th>\n",
       "      <th>volatile acidity</th>\n",
       "      <th>citric acid</th>\n",
       "      <th>residual sugar</th>\n",
       "      <th>chlorides</th>\n",
       "      <th>free sulfur dioxide</th>\n",
       "      <th>total sulfur dioxide</th>\n",
       "      <th>density</th>\n",
       "      <th>pH</th>\n",
       "      <th>sulphates</th>\n",
       "      <th>alcohol</th>\n",
       "      <th>quality</th>\n",
       "    </tr>\n",
       "  </thead>\n",
       "  <tbody>\n",
       "    <tr>\n",
       "      <th>0</th>\n",
       "      <td>7.0</td>\n",
       "      <td>0.27</td>\n",
       "      <td>0.36</td>\n",
       "      <td>20.7</td>\n",
       "      <td>0.045</td>\n",
       "      <td>45.0</td>\n",
       "      <td>170.0</td>\n",
       "      <td>1.0010</td>\n",
       "      <td>3.00</td>\n",
       "      <td>0.45</td>\n",
       "      <td>8.8</td>\n",
       "      <td>6</td>\n",
       "    </tr>\n",
       "    <tr>\n",
       "      <th>1</th>\n",
       "      <td>6.3</td>\n",
       "      <td>0.30</td>\n",
       "      <td>0.34</td>\n",
       "      <td>1.6</td>\n",
       "      <td>0.049</td>\n",
       "      <td>14.0</td>\n",
       "      <td>132.0</td>\n",
       "      <td>0.9940</td>\n",
       "      <td>3.30</td>\n",
       "      <td>0.49</td>\n",
       "      <td>9.5</td>\n",
       "      <td>6</td>\n",
       "    </tr>\n",
       "    <tr>\n",
       "      <th>2</th>\n",
       "      <td>8.1</td>\n",
       "      <td>0.28</td>\n",
       "      <td>0.40</td>\n",
       "      <td>6.9</td>\n",
       "      <td>0.050</td>\n",
       "      <td>30.0</td>\n",
       "      <td>97.0</td>\n",
       "      <td>0.9951</td>\n",
       "      <td>3.26</td>\n",
       "      <td>0.44</td>\n",
       "      <td>10.1</td>\n",
       "      <td>6</td>\n",
       "    </tr>\n",
       "    <tr>\n",
       "      <th>3</th>\n",
       "      <td>7.2</td>\n",
       "      <td>0.23</td>\n",
       "      <td>0.32</td>\n",
       "      <td>8.5</td>\n",
       "      <td>0.058</td>\n",
       "      <td>47.0</td>\n",
       "      <td>186.0</td>\n",
       "      <td>0.9956</td>\n",
       "      <td>3.19</td>\n",
       "      <td>0.40</td>\n",
       "      <td>9.9</td>\n",
       "      <td>6</td>\n",
       "    </tr>\n",
       "    <tr>\n",
       "      <th>4</th>\n",
       "      <td>7.2</td>\n",
       "      <td>0.23</td>\n",
       "      <td>0.32</td>\n",
       "      <td>8.5</td>\n",
       "      <td>0.058</td>\n",
       "      <td>47.0</td>\n",
       "      <td>186.0</td>\n",
       "      <td>0.9956</td>\n",
       "      <td>3.19</td>\n",
       "      <td>0.40</td>\n",
       "      <td>9.9</td>\n",
       "      <td>6</td>\n",
       "    </tr>\n",
       "  </tbody>\n",
       "</table>\n",
       "</div>\n",
       "      <button class=\"colab-df-convert\" onclick=\"convertToInteractive('df-641ac482-8649-43da-ac33-0ba87cdcebff')\"\n",
       "              title=\"Convert this dataframe to an interactive table.\"\n",
       "              style=\"display:none;\">\n",
       "        \n",
       "  <svg xmlns=\"http://www.w3.org/2000/svg\" height=\"24px\"viewBox=\"0 0 24 24\"\n",
       "       width=\"24px\">\n",
       "    <path d=\"M0 0h24v24H0V0z\" fill=\"none\"/>\n",
       "    <path d=\"M18.56 5.44l.94 2.06.94-2.06 2.06-.94-2.06-.94-.94-2.06-.94 2.06-2.06.94zm-11 1L8.5 8.5l.94-2.06 2.06-.94-2.06-.94L8.5 2.5l-.94 2.06-2.06.94zm10 10l.94 2.06.94-2.06 2.06-.94-2.06-.94-.94-2.06-.94 2.06-2.06.94z\"/><path d=\"M17.41 7.96l-1.37-1.37c-.4-.4-.92-.59-1.43-.59-.52 0-1.04.2-1.43.59L10.3 9.45l-7.72 7.72c-.78.78-.78 2.05 0 2.83L4 21.41c.39.39.9.59 1.41.59.51 0 1.02-.2 1.41-.59l7.78-7.78 2.81-2.81c.8-.78.8-2.07 0-2.86zM5.41 20L4 18.59l7.72-7.72 1.47 1.35L5.41 20z\"/>\n",
       "  </svg>\n",
       "      </button>\n",
       "      \n",
       "  <style>\n",
       "    .colab-df-container {\n",
       "      display:flex;\n",
       "      flex-wrap:wrap;\n",
       "      gap: 12px;\n",
       "    }\n",
       "\n",
       "    .colab-df-convert {\n",
       "      background-color: #E8F0FE;\n",
       "      border: none;\n",
       "      border-radius: 50%;\n",
       "      cursor: pointer;\n",
       "      display: none;\n",
       "      fill: #1967D2;\n",
       "      height: 32px;\n",
       "      padding: 0 0 0 0;\n",
       "      width: 32px;\n",
       "    }\n",
       "\n",
       "    .colab-df-convert:hover {\n",
       "      background-color: #E2EBFA;\n",
       "      box-shadow: 0px 1px 2px rgba(60, 64, 67, 0.3), 0px 1px 3px 1px rgba(60, 64, 67, 0.15);\n",
       "      fill: #174EA6;\n",
       "    }\n",
       "\n",
       "    [theme=dark] .colab-df-convert {\n",
       "      background-color: #3B4455;\n",
       "      fill: #D2E3FC;\n",
       "    }\n",
       "\n",
       "    [theme=dark] .colab-df-convert:hover {\n",
       "      background-color: #434B5C;\n",
       "      box-shadow: 0px 1px 3px 1px rgba(0, 0, 0, 0.15);\n",
       "      filter: drop-shadow(0px 1px 2px rgba(0, 0, 0, 0.3));\n",
       "      fill: #FFFFFF;\n",
       "    }\n",
       "  </style>\n",
       "\n",
       "      <script>\n",
       "        const buttonEl =\n",
       "          document.querySelector('#df-641ac482-8649-43da-ac33-0ba87cdcebff button.colab-df-convert');\n",
       "        buttonEl.style.display =\n",
       "          google.colab.kernel.accessAllowed ? 'block' : 'none';\n",
       "\n",
       "        async function convertToInteractive(key) {\n",
       "          const element = document.querySelector('#df-641ac482-8649-43da-ac33-0ba87cdcebff');\n",
       "          const dataTable =\n",
       "            await google.colab.kernel.invokeFunction('convertToInteractive',\n",
       "                                                     [key], {});\n",
       "          if (!dataTable) return;\n",
       "\n",
       "          const docLinkHtml = 'Like what you see? Visit the ' +\n",
       "            '<a target=\"_blank\" href=https://colab.research.google.com/notebooks/data_table.ipynb>data table notebook</a>'\n",
       "            + ' to learn more about interactive tables.';\n",
       "          element.innerHTML = '';\n",
       "          dataTable['output_type'] = 'display_data';\n",
       "          await google.colab.output.renderOutput(dataTable, element);\n",
       "          const docLink = document.createElement('div');\n",
       "          docLink.innerHTML = docLinkHtml;\n",
       "          element.appendChild(docLink);\n",
       "        }\n",
       "      </script>\n",
       "    </div>\n",
       "  </div>\n",
       "  "
      ],
      "text/plain": [
       "   fixed acidity  volatile acidity  citric acid  residual sugar  chlorides  \\\n",
       "0            7.0              0.27         0.36            20.7      0.045   \n",
       "1            6.3              0.30         0.34             1.6      0.049   \n",
       "2            8.1              0.28         0.40             6.9      0.050   \n",
       "3            7.2              0.23         0.32             8.5      0.058   \n",
       "4            7.2              0.23         0.32             8.5      0.058   \n",
       "\n",
       "   free sulfur dioxide  total sulfur dioxide  density    pH  sulphates  \\\n",
       "0                 45.0                 170.0   1.0010  3.00       0.45   \n",
       "1                 14.0                 132.0   0.9940  3.30       0.49   \n",
       "2                 30.0                  97.0   0.9951  3.26       0.44   \n",
       "3                 47.0                 186.0   0.9956  3.19       0.40   \n",
       "4                 47.0                 186.0   0.9956  3.19       0.40   \n",
       "\n",
       "   alcohol  quality  \n",
       "0      8.8        6  \n",
       "1      9.5        6  \n",
       "2     10.1        6  \n",
       "3      9.9        6  \n",
       "4      9.9        6  "
      ]
     },
     "execution_count": 137,
     "metadata": {},
     "output_type": "execute_result"
    }
   ],
   "source": [
    "data_2 = pd.read_csv(\"/content/gdrive/MyDrive/Colab Notebooks/winequality-white.csv\", sep=';')\n",
    "data_2.head()"
   ]
  },
  {
   "cell_type": "code",
   "execution_count": null,
   "metadata": {
    "id": "UYeO2DB3LZz3"
   },
   "outputs": [],
   "source": [
    "data = np.concatenate((data_1, data_2), axis=0)\n",
    "data = pd.DataFrame(data)\n",
    "columns_per = ['fixed acidity', 'volatile acidity', 'citric acid', 'residual sugar',\n",
    "       'chlorides', 'free sulfur dioxide', 'total sulfur dioxide', 'density',\n",
    "       'pH', 'sulphates', 'alcohol']\n",
    "target = ['quality']\n",
    "data.columns = columns_per + target"
   ]
  },
  {
   "cell_type": "code",
   "execution_count": null,
   "metadata": {
    "id": "tTeHyMy1LZ4E"
   },
   "outputs": [],
   "source": []
  },
  {
   "cell_type": "markdown",
   "metadata": {
    "id": "MYWcgRrZSWfY"
   },
   "source": [
    "## 1.2 По необходимости проведите преодбработку/нормализацию данных"
   ]
  },
  {
   "cell_type": "code",
   "execution_count": null,
   "metadata": {
    "id": "VzFWQfW9SWYc"
   },
   "outputs": [],
   "source": []
  },
  {
   "cell_type": "markdown",
   "metadata": {
    "id": "T7o0JR_2RxYI"
   },
   "source": [
    "## 1.3 Попробуйте различное количество слоёв\n",
    "\n",
    "Обучите 4 модели, используя различное количество линейных слоёв: 1 (=линейная регрессия), 2, 3, 4. Между двумя линейными слоями должна быть фунция активации, например, сигмоида. На последнем слое функцию активации можно не использовать.\n",
    "\n",
    "Постройте: 1) график loss для train и test в зависимости от используемого количетсва слоёв; 2) график accuracy для train и test в зависимости от используемого количества слоёв."
   ]
  },
  {
   "cell_type": "code",
   "execution_count": null,
   "metadata": {
    "id": "lWqTXo-GRxLj"
   },
   "outputs": [],
   "source": [
    "X_train, X_test, y_train, y_test = train_test_split(data[columns_per], data[target], train_size=0.8)\n",
    "loss_train = []\n",
    "loss_test = []"
   ]
  },
  {
   "cell_type": "markdown",
   "metadata": {
    "id": "0EYENztCLz0A"
   },
   "source": [
    "Один слой"
   ]
  },
  {
   "cell_type": "code",
   "execution_count": null,
   "metadata": {
    "colab": {
     "base_uri": "https://localhost:8080/",
     "height": 374
    },
    "executionInfo": {
     "elapsed": 5814,
     "status": "ok",
     "timestamp": 1653234427269,
     "user": {
      "displayName": "Денис Урюпин",
      "userId": "09594062879991792072"
     },
     "user_tz": -180
    },
    "id": "hUJiBrfbLypx",
    "outputId": "62991c90-fbf3-4950-dd06-b1fc9d01b540"
   },
   "outputs": [
    {
     "name": "stderr",
     "output_type": "stream",
     "text": [
      "/usr/local/lib/python3.7/dist-packages/torch/nn/modules/loss.py:529: UserWarning: Using a target size (torch.Size([5197])) that is different to the input size (torch.Size([5197, 1])). This will likely lead to incorrect results due to broadcasting. Please ensure they have the same size.\n",
      "  return F.mse_loss(input, target, reduction=self.reduction)\n"
     ]
    },
    {
     "name": "stdout",
     "output_type": "stream",
     "text": [
      "tensor(1.7364, dtype=torch.float64, grad_fn=<SqrtBackward0>)\n"
     ]
    },
    {
     "name": "stderr",
     "output_type": "stream",
     "text": [
      "/usr/local/lib/python3.7/dist-packages/torch/nn/modules/loss.py:529: UserWarning: Using a target size (torch.Size([1300])) that is different to the input size (torch.Size([1300, 1])). This will likely lead to incorrect results due to broadcasting. Please ensure they have the same size.\n",
      "  return F.mse_loss(input, target, reduction=self.reduction)\n"
     ]
    },
    {
     "data": {
      "image/png": "[encoded data removed]",
      "text/plain": [
       "<Figure size 432x288 with 1 Axes>"
      ]
     },
     "metadata": {
      "needs_background": "light"
     },
     "output_type": "display_data"
    }
   ],
   "source": [
    "model = nn.Sequential()\n",
    "\n",
    "model.add_module('l1', nn.Linear(in_features=11, out_features=1))\n",
    "optim = torch.optim.RMSprop(model.parameters(), lr=0.01, alpha=0.2, momentum=0)\n",
    "loss_f = nn.MSELoss()\n",
    "\n",
    "loss_history_1 = []\n",
    "\n",
    "for epoch in range(50):\n",
    "    optim.zero_grad()\n",
    "    model.train()\n",
    "\n",
    "    y_pred = model.forward(torch.from_numpy(X_train.to_numpy()).float())\n",
    "    \n",
    "    loss = torch.sqrt(loss_f(y_pred, torch.from_numpy(y_train.to_numpy()).reshape(-1).float()))\n",
    "    loss.backward()\n",
    "    \n",
    "    optim.step()\n",
    "\n",
    "    loss_history_1.append(loss.item())\n",
    "\n",
    "plt.plot(loss_history_1)\n",
    "\n",
    "loss_train.append(loss_history_1[-1])\n",
    "\n",
    "y_pred = model.forward(torch.from_numpy(X_test.to_numpy()).float())\n",
    "y_pred_metrics = np.argmax(y_pred.detach().numpy(), axis=1)\n",
    "loss_test_1 = torch.sqrt(loss_f(y_pred, torch.from_numpy(y_test.to_numpy()).reshape(-1)))\n",
    "loss_test.append(loss_test_1.detach().numpy())\n",
    "print(loss_test_1)"
   ]
  },
  {
   "cell_type": "markdown",
   "metadata": {
    "id": "T-sAQEQXPcdk"
   },
   "source": [
    "Два слоя"
   ]
  },
  {
   "cell_type": "code",
   "execution_count": null,
   "metadata": {
    "colab": {
     "base_uri": "https://localhost:8080/",
     "height": 374
    },
    "executionInfo": {
     "elapsed": 5741,
     "status": "ok",
     "timestamp": 1653234433664,
     "user": {
      "displayName": "Денис Урюпин",
      "userId": "09594062879991792072"
     },
     "user_tz": -180
    },
    "id": "4z7zDheqLysm",
    "outputId": "df5d80ff-0def-48e4-dc00-e860c222718d"
   },
   "outputs": [
    {
     "name": "stderr",
     "output_type": "stream",
     "text": [
      "/usr/local/lib/python3.7/dist-packages/torch/nn/modules/loss.py:529: UserWarning: Using a target size (torch.Size([5197])) that is different to the input size (torch.Size([5197, 1])). This will likely lead to incorrect results due to broadcasting. Please ensure they have the same size.\n",
      "  return F.mse_loss(input, target, reduction=self.reduction)\n"
     ]
    },
    {
     "name": "stdout",
     "output_type": "stream",
     "text": [
      "tensor(0.8708, dtype=torch.float64, grad_fn=<SqrtBackward0>)\n"
     ]
    },
    {
     "name": "stderr",
     "output_type": "stream",
     "text": [
      "/usr/local/lib/python3.7/dist-packages/torch/nn/modules/loss.py:529: UserWarning: Using a target size (torch.Size([1300])) that is different to the input size (torch.Size([1300, 1])). This will likely lead to incorrect results due to broadcasting. Please ensure they have the same size.\n",
      "  return F.mse_loss(input, target, reduction=self.reduction)\n"
     ]
    },
    {
     "data": {
      "image/png": "[encoded data removed]",
      "text/plain": [
       "<Figure size 432x288 with 1 Axes>"
      ]
     },
     "metadata": {
      "needs_background": "light"
     },
     "output_type": "display_data"
    }
   ],
   "source": [
    "model = nn.Sequential()\n",
    "\n",
    "model.add_module('l1', nn.Linear(in_features=11, out_features=11))\n",
    "model.add_module('a1', nn.Tanh())\n",
    "model.add_module('l2', nn.Linear(in_features=11, out_features=1))\n",
    "optim = torch.optim.RMSprop(model.parameters(), lr=0.01, alpha=0.2, momentum=0)\n",
    "loss_f = nn.MSELoss()\n",
    "\n",
    "loss_history_2 = []\n",
    "\n",
    "for epoch in range(50):\n",
    "    optim.zero_grad()\n",
    "    model.train()\n",
    "\n",
    "    y_pred = model.forward(torch.from_numpy(X_train.to_numpy()).float())\n",
    "    \n",
    "    loss = torch.sqrt(loss_f(y_pred, torch.from_numpy(y_train.to_numpy()).reshape(-1).float()))\n",
    "    loss.backward()\n",
    "    \n",
    "    optim.step()\n",
    "\n",
    "    loss_history_2.append(loss.item())\n",
    "\n",
    "plt.plot(loss_history_2)\n",
    "loss_train.append(loss_history_2[-1])\n",
    "\n",
    "y_pred = model.forward(torch.from_numpy(X_test.to_numpy()).float())\n",
    "y_pred_metrics = np.argmax(y_pred.detach().numpy(), axis=1)\n",
    "loss_test_2 = torch.sqrt(loss_f(y_pred, torch.from_numpy(y_test.to_numpy()).reshape(-1)))\n",
    "loss_test.append(loss_test_2.detach().numpy())\n",
    "print(loss_test_2)"
   ]
  },
  {
   "cell_type": "markdown",
   "metadata": {
    "id": "3T5r7fp5Qek1"
   },
   "source": [
    "Три слоя"
   ]
  },
  {
   "cell_type": "code",
   "execution_count": null,
   "metadata": {
    "colab": {
     "base_uri": "https://localhost:8080/",
     "height": 374
    },
    "executionInfo": {
     "elapsed": 6226,
     "status": "ok",
     "timestamp": 1653234439858,
     "user": {
      "displayName": "Денис Урюпин",
      "userId": "09594062879991792072"
     },
     "user_tz": -180
    },
    "id": "NRedsrR6LyvG",
    "outputId": "dacb6790-77be-4df9-8a61-9e7bf1414a1a"
   },
   "outputs": [
    {
     "name": "stderr",
     "output_type": "stream",
     "text": [
      "/usr/local/lib/python3.7/dist-packages/torch/nn/modules/loss.py:529: UserWarning: Using a target size (torch.Size([5197])) that is different to the input size (torch.Size([5197, 1])). This will likely lead to incorrect results due to broadcasting. Please ensure they have the same size.\n",
      "  return F.mse_loss(input, target, reduction=self.reduction)\n"
     ]
    },
    {
     "name": "stdout",
     "output_type": "stream",
     "text": [
      "tensor(0.8680, dtype=torch.float64, grad_fn=<SqrtBackward0>)\n"
     ]
    },
    {
     "name": "stderr",
     "output_type": "stream",
     "text": [
      "/usr/local/lib/python3.7/dist-packages/torch/nn/modules/loss.py:529: UserWarning: Using a target size (torch.Size([1300])) that is different to the input size (torch.Size([1300, 1])). This will likely lead to incorrect results due to broadcasting. Please ensure they have the same size.\n",
      "  return F.mse_loss(input, target, reduction=self.reduction)\n"
     ]
    },
    {
     "data": {
      "image/png": "[encoded data removed]",
      "text/plain": [
       "<Figure size 432x288 with 1 Axes>"
      ]
     },
     "metadata": {
      "needs_background": "light"
     },
     "output_type": "display_data"
    }
   ],
   "source": [
    "model = nn.Sequential()\n",
    "\n",
    "model.add_module('l1', nn.Linear(in_features=11, out_features=11))\n",
    "model.add_module('a1', nn.Tanh())\n",
    "model.add_module('l2', nn.Linear(in_features=11, out_features=11))\n",
    "model.add_module('a2', nn.Tanh())\n",
    "model.add_module('l3', nn.Linear(in_features=11, out_features=1))\n",
    "optim = torch.optim.RMSprop(model.parameters(), lr=0.01, alpha=0.2, momentum=0)\n",
    "loss_f = nn.MSELoss()\n",
    "\n",
    "loss_history_3 = []\n",
    "\n",
    "for epoch in range(50):\n",
    "    optim.zero_grad()\n",
    "    model.train()\n",
    "\n",
    "    y_pred = model.forward(torch.from_numpy(X_train.to_numpy()).float())\n",
    "    \n",
    "    loss = torch.sqrt(loss_f(y_pred, torch.from_numpy(y_train.to_numpy()).reshape(-1).float()))\n",
    "    loss.backward()\n",
    "    \n",
    "    optim.step()\n",
    "\n",
    "    loss_history_3.append(loss.item())\n",
    "\n",
    "plt.plot(loss_history_3)\n",
    "loss_train.append(loss_history_3[-1])\n",
    "\n",
    "y_pred = model.forward(torch.from_numpy(X_test.to_numpy()).float())\n",
    "y_pred_metrics = np.argmax(y_pred.detach().numpy(), axis=1)\n",
    "\n",
    "loss_test_3 = torch.sqrt(loss_f(y_pred, torch.from_numpy(y_test.to_numpy()).reshape(-1)))\n",
    "loss_test.append(loss_test_3.detach().numpy())\n",
    "print(loss_test_3)"
   ]
  },
  {
   "cell_type": "markdown",
   "metadata": {
    "id": "kjkSNKMYQgt4"
   },
   "source": [
    "Четыре слоя"
   ]
  },
  {
   "cell_type": "code",
   "execution_count": null,
   "metadata": {
    "colab": {
     "base_uri": "https://localhost:8080/",
     "height": 374
    },
    "executionInfo": {
     "elapsed": 5519,
     "status": "ok",
     "timestamp": 1653234445332,
     "user": {
      "displayName": "Денис Урюпин",
      "userId": "09594062879991792072"
     },
     "user_tz": -180
    },
    "id": "fEyrSZgJLyxu",
    "outputId": "5ad1c1c8-fb97-4cd7-a515-cade0b67dc9d"
   },
   "outputs": [
    {
     "name": "stderr",
     "output_type": "stream",
     "text": [
      "/usr/local/lib/python3.7/dist-packages/torch/nn/modules/loss.py:529: UserWarning: Using a target size (torch.Size([5197])) that is different to the input size (torch.Size([5197, 1])). This will likely lead to incorrect results due to broadcasting. Please ensure they have the same size.\n",
      "  return F.mse_loss(input, target, reduction=self.reduction)\n"
     ]
    },
    {
     "name": "stdout",
     "output_type": "stream",
     "text": [
      "tensor(0.8680, dtype=torch.float64, grad_fn=<SqrtBackward0>)\n"
     ]
    },
    {
     "name": "stderr",
     "output_type": "stream",
     "text": [
      "/usr/local/lib/python3.7/dist-packages/torch/nn/modules/loss.py:529: UserWarning: Using a target size (torch.Size([1300])) that is different to the input size (torch.Size([1300, 1])). This will likely lead to incorrect results due to broadcasting. Please ensure they have the same size.\n",
      "  return F.mse_loss(input, target, reduction=self.reduction)\n"
     ]
    },
    {
     "data": {
      "image/png": "[encoded data removed]",
      "text/plain": [
       "<Figure size 432x288 with 1 Axes>"
      ]
     },
     "metadata": {
      "needs_background": "light"
     },
     "output_type": "display_data"
    }
   ],
   "source": [
    "model = nn.Sequential()\n",
    "\n",
    "model.add_module('l1', nn.Linear(in_features=11, out_features=11))\n",
    "model.add_module('a1', nn.Tanh())\n",
    "model.add_module('l2', nn.Linear(in_features=11, out_features=11))\n",
    "model.add_module('a2', nn.Tanh())\n",
    "model.add_module('l3', nn.Linear(in_features=11, out_features=11))\n",
    "model.add_module('a3', nn.Tanh())\n",
    "model.add_module('l4', nn.Linear(in_features=11, out_features=1))\n",
    "optim = torch.optim.RMSprop(model.parameters(), lr=0.01, alpha=0.2, momentum=0)\n",
    "loss_f = nn.MSELoss()\n",
    "\n",
    "loss_history_4 = []\n",
    "\n",
    "for epoch in range(50):\n",
    "    optim.zero_grad()\n",
    "    model.train()\n",
    "\n",
    "    y_pred = model.forward(torch.from_numpy(X_train.to_numpy()).float())\n",
    "    \n",
    "    loss = torch.sqrt(loss_f(y_pred, torch.from_numpy(y_train.to_numpy()).reshape(-1).float()))\n",
    "    loss.backward()\n",
    "    \n",
    "    optim.step()\n",
    "\n",
    "    loss_history_4.append(loss.item())\n",
    "\n",
    "plt.plot(loss_history_4)\n",
    "\n",
    "loss_train.append(loss_history_4[-1])\n",
    "\n",
    "y_pred = model.forward(torch.from_numpy(X_test.to_numpy()).float())\n",
    "y_pred_metrics = np.argmax(y_pred.detach().numpy(), axis=1)\n",
    "\n",
    "loss_test_4 = torch.sqrt(loss_f(y_pred, torch.from_numpy(y_test.to_numpy()).reshape(-1)))\n",
    "loss_test.append(loss_test_4.detach().numpy())\n",
    "print(loss_test_4)"
   ]
  },
  {
   "cell_type": "markdown",
   "metadata": {
    "id": "Gtoch-QKQ_H4"
   },
   "source": [
    "Отрисовка"
   ]
  },
  {
   "cell_type": "code",
   "execution_count": null,
   "metadata": {
    "colab": {
     "base_uri": "https://localhost:8080/",
     "height": 281
    },
    "executionInfo": {
     "elapsed": 781,
     "status": "ok",
     "timestamp": 1653234487913,
     "user": {
      "displayName": "Денис Урюпин",
      "userId": "09594062879991792072"
     },
     "user_tz": -180
    },
    "id": "RXsvfpR3Ly0o",
    "outputId": "a7cd2ced-a63f-4f10-a55f-68ce410a936f"
   },
   "outputs": [
    {
     "data": {
      "image/png": "[encoded data removed]",
      "text/plain": [
       "<Figure size 432x288 with 1 Axes>"
      ]
     },
     "metadata": {
      "needs_background": "light"
     },
     "output_type": "display_data"
    }
   ],
   "source": [
    "plt.plot([1, 2, 3 , 4], loss_train)\n",
    "plt.plot([1, 2, 3 , 4], loss_test)\n",
    "plt.title('loss')\n",
    "plt.legend(['train', 'test'])\n",
    "plt.show()"
   ]
  },
  {
   "cell_type": "markdown",
   "metadata": {
    "id": "W2nj7663Q9E1"
   },
   "source": []
  },
  {
   "cell_type": "markdown",
   "metadata": {
    "id": "mpc9FHD7LWn1"
   },
   "source": [
    "## 1.4 Попробуйте различные функции активации\n",
    "\n",
    "Обучите 4 модели, используя 4 различных функции активации: sigmoid, tanh, ReLU, ELU. \n",
    "\n",
    "Постройте: 1) график loss для train и test в зависимости от используемой функции активации; 2) график accuracy для train и test в зависимости от используемой функции активации;"
   ]
  },
  {
   "cell_type": "code",
   "execution_count": null,
   "metadata": {
    "colab": {
     "base_uri": "https://localhost:8080/",
     "height": 427
    },
    "executionInfo": {
     "elapsed": 23974,
     "status": "ok",
     "timestamp": 1653235862291,
     "user": {
      "displayName": "Денис Урюпин",
      "userId": "09594062879991792072"
     },
     "user_tz": -180
    },
    "id": "fhIBevWiLeeY",
    "outputId": "46a18a4a-50e9-481a-93cf-c70dfc12aa8f"
   },
   "outputs": [
    {
     "name": "stderr",
     "output_type": "stream",
     "text": [
      "/usr/local/lib/python3.7/dist-packages/torch/nn/modules/loss.py:529: UserWarning: Using a target size (torch.Size([5197])) that is different to the input size (torch.Size([5197, 1])). This will likely lead to incorrect results due to broadcasting. Please ensure they have the same size.\n",
      "  return F.mse_loss(input, target, reduction=self.reduction)\n",
      "/usr/local/lib/python3.7/dist-packages/torch/nn/modules/loss.py:529: UserWarning: Using a target size (torch.Size([1300])) that is different to the input size (torch.Size([1300, 1])). This will likely lead to incorrect results due to broadcasting. Please ensure they have the same size.\n",
      "  return F.mse_loss(input, target, reduction=self.reduction)\n"
     ]
    },
    {
     "name": "stdout",
     "output_type": "stream",
     "text": [
      "tensor(0.9644, dtype=torch.float64, grad_fn=<SqrtBackward0>)\n",
      "tensor(0.8661, dtype=torch.float64, grad_fn=<SqrtBackward0>)\n",
      "tensor(2.2272, dtype=torch.float64, grad_fn=<SqrtBackward0>)\n",
      "tensor(1.5470, dtype=torch.float64, grad_fn=<SqrtBackward0>)\n"
     ]
    },
    {
     "data": {
      "image/png": "[encoded data removed]",
      "text/plain": [
       "<Figure size 432x288 with 1 Axes>"
      ]
     },
     "metadata": {
      "needs_background": "light"
     },
     "output_type": "display_data"
    }
   ],
   "source": [
    "X_train, X_test, y_train, y_test = train_test_split(data[columns_per], data[target], train_size=0.8)\n",
    "loss_train_14 = []\n",
    "loss_test_14 = []\n",
    "Sigmoid = nn.Sigmoid()\n",
    "Tanh = nn.Tanh()\n",
    "ReLU = nn.ReLU()\n",
    "ELU = nn.ELU()\n",
    "activ = [Sigmoid, Tanh, ReLU, ELU]\n",
    "for act in activ:\n",
    "    model = nn.Sequential()\n",
    "    model.add_module('l1', nn.Linear(in_features=11, out_features=11))\n",
    "    model.add_module('a1', act)\n",
    "    model.add_module('l2', nn.Linear(in_features=11, out_features=1))\n",
    "    optim = torch.optim.RMSprop(model.parameters(), lr=0.01, alpha=0.2, momentum=0)\n",
    "    loss_f = nn.MSELoss()\n",
    "    loss_history = []\n",
    "    for epoch in range(50):\n",
    "        optim.zero_grad()\n",
    "        model.train()\n",
    "\n",
    "        y_pred_train = model.forward(torch.from_numpy(X_train.to_numpy()).float())\n",
    "    \n",
    "        loss = torch.sqrt(loss_f(y_pred_train, torch.from_numpy(y_train.to_numpy()).reshape(-1).float()))\n",
    "        loss.backward()\n",
    "        optim.step()\n",
    "\n",
    "        loss_history.append(loss.item())\n",
    "\n",
    "    plt.plot(loss_history)\n",
    "    loss_train_14.append(loss_history[-1])\n",
    "    \n",
    "    y_pred = model.forward(torch.from_numpy(X_test.to_numpy()).float())\n",
    "    y_pred_metrics = np.argmax(y_pred.detach().numpy(), axis=1)\n",
    "    loss_test = torch.sqrt(loss_f(y_pred, torch.from_numpy(y_test.to_numpy()).reshape(-1)))\n",
    "    loss_test_14.append(loss_test.detach().numpy())\n",
    "    print(loss_test)"
   ]
  },
  {
   "cell_type": "markdown",
   "metadata": {
    "id": "oOCLXEC4h8nU"
   },
   "source": [
    "Отрисовка"
   ]
  },
  {
   "cell_type": "code",
   "execution_count": null,
   "metadata": {
    "colab": {
     "base_uri": "https://localhost:8080/",
     "height": 281
    },
    "executionInfo": {
     "elapsed": 475,
     "status": "ok",
     "timestamp": 1653235804132,
     "user": {
      "displayName": "Денис Урюпин",
      "userId": "09594062879991792072"
     },
     "user_tz": -180
    },
    "id": "2XLjikw1h-ZM",
    "outputId": "88f2a1b1-ff02-462e-c2c0-39484b3aab01"
   },
   "outputs": [
    {
     "data": {
      "image/png": "[encoded data removed]",
      "text/plain": [
       "<Figure size 432x288 with 1 Axes>"
      ]
     },
     "metadata": {
      "needs_background": "light"
     },
     "output_type": "display_data"
    }
   ],
   "source": [
    "plt.plot(['Sigmoid', 'Tanh', 'ReLU', 'ELU'], loss_train_14)\n",
    "plt.plot(['Sigmoid', 'Tanh', 'ReLU', 'ELU'], loss_test_14)\n",
    "plt.title('loss')\n",
    "plt.legend(['train', 'test'])\n",
    "plt.show()"
   ]
  },
  {
   "cell_type": "markdown",
   "metadata": {
    "id": "DzgKq1-qLghm"
   },
   "source": [
    "## 1.5 Попробуйте различные алгоритмы оптимизации\n",
    "\n",
    "Обучите 4 модели, используя 4 различных алгоритма оптимизации: SGD, SGD with momentum, RMSprop, Adam\n",
    "\n",
    "Постройте: 1) график loss для train и test в зависимости от используемого  алгоритма оптимизации; 2) график accuracy для train и test в зависимости от используемого  алгоритма оптимизации."
   ]
  },
  {
   "cell_type": "code",
   "execution_count": null,
   "metadata": {
    "colab": {
     "base_uri": "https://localhost:8080/",
     "height": 427
    },
    "executionInfo": {
     "elapsed": 23364,
     "status": "ok",
     "timestamp": 1653238580081,
     "user": {
      "displayName": "Денис Урюпин",
      "userId": "09594062879991792072"
     },
     "user_tz": -180
    },
    "id": "hLwYrg7NLgIZ",
    "outputId": "b5bd6ef6-150a-4776-bce3-92ac1e1b82d1"
   },
   "outputs": [
    {
     "name": "stderr",
     "output_type": "stream",
     "text": [
      "/usr/local/lib/python3.7/dist-packages/torch/nn/modules/loss.py:529: UserWarning: Using a target size (torch.Size([5197])) that is different to the input size (torch.Size([5197, 1])). This will likely lead to incorrect results due to broadcasting. Please ensure they have the same size.\n",
      "  return F.mse_loss(input, target, reduction=self.reduction)\n",
      "/usr/local/lib/python3.7/dist-packages/torch/nn/modules/loss.py:529: UserWarning: Using a target size (torch.Size([1300])) that is different to the input size (torch.Size([1300, 1])). This will likely lead to incorrect results due to broadcasting. Please ensure they have the same size.\n",
      "  return F.mse_loss(input, target, reduction=self.reduction)\n"
     ]
    },
    {
     "name": "stdout",
     "output_type": "stream",
     "text": [
      "tensor(0.7332, dtype=torch.float64, grad_fn=<MseLossBackward0>)\n",
      "tensor(0.7328, dtype=torch.float64, grad_fn=<MseLossBackward0>)\n",
      "tensor(0.7352, dtype=torch.float64, grad_fn=<MseLossBackward0>)\n",
      "tensor(0.7317, dtype=torch.float64, grad_fn=<MseLossBackward0>)\n"
     ]
    },
    {
     "data": {
      "image/png": "[encoded data removed]",
      "text/plain": [
       "<Figure size 432x288 with 1 Axes>"
      ]
     },
     "metadata": {
      "needs_background": "light"
     },
     "output_type": "display_data"
    }
   ],
   "source": [
    "X_train, X_test, y_train, y_test = train_test_split(data[columns_per], data[target], train_size=0.8)\n",
    "loss_train_15 = []\n",
    "loss_test_15 = []\n",
    "model = nn.Sequential()\n",
    "model.add_module('l1', nn.Linear(in_features=11, out_features=11))\n",
    "model.add_module('a1', act)\n",
    "model.add_module('l2', nn.Linear(in_features=11, out_features=1))\n",
    "SGD = torch.optim.SGD(model.parameters(), lr=0.05, momentum=0)\n",
    "SGD_with_momentum = torch.optim.SGD(model.parameters(), lr=0.002, momentum=0.9)\n",
    "RMSprop = torch.optim.RMSprop(model.parameters(), lr=0.01, alpha=0.5, momentum=0)\n",
    "Adam = torch.optim.Adam(model.parameters(), lr=0.01)\n",
    "loss_f = nn.MSELoss()\n",
    "opt = [SGD, SGD_with_momentum, RMSprop, Adam]\n",
    "for optim in opt:\n",
    "    loss_history = []\n",
    "    for epoch in range(50):\n",
    "        optim.zero_grad()\n",
    "        model.train()\n",
    "\n",
    "        y_pred_train = model.forward(torch.from_numpy(X_train.to_numpy()).float())\n",
    "    \n",
    "        loss = torch.sqrt(loss_f(y_pred_train, torch.from_numpy(y_train.to_numpy()).reshape(-1).float()))\n",
    "        loss.backward()\n",
    "    \n",
    "        optim.step()\n",
    "\n",
    "        loss_history.append(loss.item())\n",
    "\n",
    "\n",
    "    plt.plot(loss_history)\n",
    "    loss_train_15.append(loss_history[-1])\n",
    "    \n",
    "    y_pred = model.forward(torch.from_numpy(X_test.to_numpy()).float())\n",
    "    y_pred_metrics = np.argmax(y_pred.detach().numpy(), axis=1)\n",
    "    loss_test = loss_f(y_pred, torch.from_numpy(y_test.to_numpy()).reshape(-1))\n",
    "    loss_test_15.append(loss_test.detach().numpy())\n",
    "    print(loss_test)"
   ]
  },
  {
   "cell_type": "code",
   "execution_count": null,
   "metadata": {
    "colab": {
     "base_uri": "https://localhost:8080/",
     "height": 239
    },
    "executionInfo": {
     "elapsed": 12,
     "status": "error",
     "timestamp": 1653250586890,
     "user": {
      "displayName": "Денис Урюпин",
      "userId": "09594062879991792072"
     },
     "user_tz": -180
    },
    "id": "HLYjgCfGaYnP",
    "outputId": "51e4d78d-dfa5-47b9-e24f-6326c700bd02"
   },
   "outputs": [
    {
     "ename": "NameError",
     "evalue": "ignored",
     "output_type": "error",
     "traceback": [
      "\u001b[0;31m---------------------------------------------------------------------------\u001b[0m",
      "\u001b[0;31mNameError\u001b[0m                                 Traceback (most recent call last)",
      "\u001b[0;32m<ipython-input-1-b29cab6d9cb5>\u001b[0m in \u001b[0;36m<module>\u001b[0;34m()\u001b[0m\n\u001b[0;32m----> 1\u001b[0;31m \u001b[0mplt\u001b[0m\u001b[0;34m.\u001b[0m\u001b[0mplot\u001b[0m\u001b[0;34m(\u001b[0m\u001b[0;34m[\u001b[0m\u001b[0;34m'SGD'\u001b[0m\u001b[0;34m,\u001b[0m \u001b[0;34m'SGD_with_momentum'\u001b[0m\u001b[0;34m,\u001b[0m \u001b[0;34m'RMSprop'\u001b[0m\u001b[0;34m,\u001b[0m \u001b[0;34m'Adam'\u001b[0m\u001b[0;34m]\u001b[0m\u001b[0;34m,\u001b[0m \u001b[0mloss_train_15\u001b[0m\u001b[0;34m)\u001b[0m\u001b[0;34m\u001b[0m\u001b[0;34m\u001b[0m\u001b[0m\n\u001b[0m\u001b[1;32m      2\u001b[0m \u001b[0mplt\u001b[0m\u001b[0;34m.\u001b[0m\u001b[0mplot\u001b[0m\u001b[0;34m(\u001b[0m\u001b[0;34m[\u001b[0m\u001b[0;34m'SGD'\u001b[0m\u001b[0;34m,\u001b[0m \u001b[0;34m'SGD_with_momentum'\u001b[0m\u001b[0;34m,\u001b[0m \u001b[0;34m'RMSprop'\u001b[0m\u001b[0;34m,\u001b[0m \u001b[0;34m'Adam'\u001b[0m\u001b[0;34m]\u001b[0m\u001b[0;34m,\u001b[0m \u001b[0mloss_test_15\u001b[0m\u001b[0;34m)\u001b[0m\u001b[0;34m\u001b[0m\u001b[0;34m\u001b[0m\u001b[0m\n\u001b[1;32m      3\u001b[0m \u001b[0mplt\u001b[0m\u001b[0;34m.\u001b[0m\u001b[0mtitle\u001b[0m\u001b[0;34m(\u001b[0m\u001b[0;34m'loss'\u001b[0m\u001b[0;34m)\u001b[0m\u001b[0;34m\u001b[0m\u001b[0;34m\u001b[0m\u001b[0m\n\u001b[1;32m      4\u001b[0m \u001b[0mplt\u001b[0m\u001b[0;34m.\u001b[0m\u001b[0mlegend\u001b[0m\u001b[0;34m(\u001b[0m\u001b[0;34m[\u001b[0m\u001b[0;34m'train'\u001b[0m\u001b[0;34m,\u001b[0m \u001b[0;34m'test'\u001b[0m\u001b[0;34m]\u001b[0m\u001b[0;34m)\u001b[0m\u001b[0;34m\u001b[0m\u001b[0;34m\u001b[0m\u001b[0m\n\u001b[1;32m      5\u001b[0m \u001b[0mplt\u001b[0m\u001b[0;34m.\u001b[0m\u001b[0mshow\u001b[0m\u001b[0;34m(\u001b[0m\u001b[0;34m)\u001b[0m\u001b[0;34m\u001b[0m\u001b[0;34m\u001b[0m\u001b[0m\n",
      "\u001b[0;31mNameError\u001b[0m: name 'plt' is not defined"
     ]
    }
   ],
   "source": [
    "plt.plot(['SGD', 'SGD_with_momentum', 'RMSprop', 'Adam'], loss_train_15)\n",
    "plt.plot(['SGD', 'SGD_with_momentum', 'RMSprop', 'Adam'], loss_test_15)\n",
    "plt.title('loss')\n",
    "plt.legend(['train', 'test'])\n",
    "plt.show()"
   ]
  },
  {
   "cell_type": "markdown",
   "metadata": {
    "id": "3QXFzDbOLZ7w"
   },
   "source": [
    "## 1.6 Попробуйте добавить dropout и batch norm\n",
    "\n",
    "Обучите 5 моделей, используя 5 различных конфигураций: только BatchNorm, только dropout 0.2, только dropout 0.5, BatchNorm + dropout 0.2, BatchNorm + dropout 0.5.\n",
    "\n",
    "Постройте: 1) график loss для train и test в зависимости от используемой конфигурации; 2) график accuracy для train и test в зависимости от используемой конфигурации."
   ]
  },
  {
   "cell_type": "code",
   "execution_count": null,
   "metadata": {
    "id": "aUKil2VRLeIv"
   },
   "outputs": [],
   "source": [
    "loss_train_16 = []\n",
    "loss_test_16 = []\n",
    "X_train, X_test, y_train, y_test = train_test_split(data[columns_per], data[target], train_size=0.8)"
   ]
  },
  {
   "cell_type": "code",
   "execution_count": null,
   "metadata": {
    "colab": {
     "base_uri": "https://localhost:8080/",
     "height": 374
    },
    "executionInfo": {
     "elapsed": 5526,
     "status": "ok",
     "timestamp": 1653238640791,
     "user": {
      "displayName": "Денис Урюпин",
      "userId": "09594062879991792072"
     },
     "user_tz": -180
    },
    "id": "ihSvNw9yml-0",
    "outputId": "149755b5-8f50-4608-8b70-021e53270e06"
   },
   "outputs": [
    {
     "name": "stderr",
     "output_type": "stream",
     "text": [
      "/usr/local/lib/python3.7/dist-packages/torch/nn/modules/loss.py:529: UserWarning: Using a target size (torch.Size([5197])) that is different to the input size (torch.Size([5197, 1])). This will likely lead to incorrect results due to broadcasting. Please ensure they have the same size.\n",
      "  return F.mse_loss(input, target, reduction=self.reduction)\n"
     ]
    },
    {
     "name": "stdout",
     "output_type": "stream",
     "text": [
      "tensor(2.5349, grad_fn=<SqrtBackward0>)\n"
     ]
    },
    {
     "name": "stderr",
     "output_type": "stream",
     "text": [
      "/usr/local/lib/python3.7/dist-packages/torch/nn/modules/loss.py:529: UserWarning: Using a target size (torch.Size([1300])) that is different to the input size (torch.Size([1300, 1])). This will likely lead to incorrect results due to broadcasting. Please ensure they have the same size.\n",
      "  return F.mse_loss(input, target, reduction=self.reduction)\n"
     ]
    },
    {
     "data": {
      "image/png": "[encoded data removed]",
      "text/plain": [
       "<Figure size 432x288 with 1 Axes>"
      ]
     },
     "metadata": {
      "needs_background": "light"
     },
     "output_type": "display_data"
    }
   ],
   "source": [
    "model = nn.Sequential()\n",
    "\n",
    "model.add_module('l1', nn.Linear(in_features=11, out_features=11))\n",
    "model.add_module('n1', nn.BatchNorm1d(11))\n",
    "model.add_module('a1', nn.Tanh())\n",
    "model.add_module('l2', nn.Linear(in_features=11, out_features=1))\n",
    "optim = torch.optim.Adam(model.parameters(), lr=0.01)\n",
    "loss_f = nn.MSELoss()\n",
    "loss_history_1 = []\n",
    "\n",
    "for epoch in range(50):\n",
    "    optim.zero_grad()\n",
    "    model.train()\n",
    "\n",
    "    y_pred = model.forward(torch.from_numpy(X_train.to_numpy()).float())\n",
    "    \n",
    "    loss = torch.sqrt(loss_f(y_pred, torch.from_numpy(y_train.to_numpy()).reshape(-1).float()))\n",
    "    loss.backward()\n",
    "    \n",
    "    optim.step()\n",
    "\n",
    "    loss_history_1.append(loss.item())\n",
    "\n",
    "plt.plot(loss_history_1)\n",
    "\n",
    "loss_train_16.append(loss_history_1[-1])\n",
    "\n",
    "y_pred = model.forward(torch.from_numpy(X_test.to_numpy()).float())\n",
    "y_pred_metrics = np.argmax(y_pred.detach().numpy(), axis=1)\n",
    "\n",
    "loss_test_1 = torch.sqrt(loss_f(y_pred, torch.from_numpy(y_test.to_numpy()).reshape(-1).float()))\n",
    "loss_test_16.append(loss_test_1.detach().numpy())\n",
    "print(loss_test_1)"
   ]
  },
  {
   "cell_type": "code",
   "execution_count": null,
   "metadata": {
    "colab": {
     "base_uri": "https://localhost:8080/",
     "height": 374
    },
    "executionInfo": {
     "elapsed": 5702,
     "status": "ok",
     "timestamp": 1653238651340,
     "user": {
      "displayName": "Денис Урюпин",
      "userId": "09594062879991792072"
     },
     "user_tz": -180
    },
    "id": "pepCEN2nmmDZ",
    "outputId": "7f0f2b1f-0a84-4fc3-c908-48c10f71362a"
   },
   "outputs": [
    {
     "name": "stderr",
     "output_type": "stream",
     "text": [
      "/usr/local/lib/python3.7/dist-packages/torch/nn/modules/loss.py:529: UserWarning: Using a target size (torch.Size([5197])) that is different to the input size (torch.Size([5197, 1])). This will likely lead to incorrect results due to broadcasting. Please ensure they have the same size.\n",
      "  return F.mse_loss(input, target, reduction=self.reduction)\n"
     ]
    },
    {
     "name": "stdout",
     "output_type": "stream",
     "text": [
      "tensor(1.2075, grad_fn=<SqrtBackward0>)\n"
     ]
    },
    {
     "name": "stderr",
     "output_type": "stream",
     "text": [
      "/usr/local/lib/python3.7/dist-packages/torch/nn/modules/loss.py:529: UserWarning: Using a target size (torch.Size([1300])) that is different to the input size (torch.Size([1300, 1])). This will likely lead to incorrect results due to broadcasting. Please ensure they have the same size.\n",
      "  return F.mse_loss(input, target, reduction=self.reduction)\n"
     ]
    },
    {
     "data": {
      "image/png": "[encoded data removed]",
      "text/plain": [
       "<Figure size 432x288 with 1 Axes>"
      ]
     },
     "metadata": {
      "needs_background": "light"
     },
     "output_type": "display_data"
    }
   ],
   "source": [
    "model = nn.Sequential()\n",
    "\n",
    "model.add_module('l1', nn.Linear(in_features=11, out_features=11))\n",
    "model.add_module('n1', nn.Dropout(0.2))\n",
    "model.add_module('a1', nn.Tanh())\n",
    "model.add_module('l2', nn.Linear(in_features=11, out_features=1))\n",
    "optim = torch.optim.Adam(model.parameters(), lr=0.01)\n",
    "loss_f = nn.MSELoss()\n",
    "loss_history_2 = []\n",
    "\n",
    "for epoch in range(50):\n",
    "    optim.zero_grad()\n",
    "    model.train()\n",
    "\n",
    "    y_pred = model.forward(torch.from_numpy(X_train.to_numpy()).float())\n",
    "    \n",
    "    loss = torch.sqrt(loss_f(y_pred, torch.from_numpy(y_train.to_numpy()).reshape(-1).float()))\n",
    "    loss.backward()\n",
    "    \n",
    "    optim.step()\n",
    "\n",
    "    loss_history_2.append(loss.item())\n",
    "\n",
    "plt.plot(loss_history_2)\n",
    "\n",
    "loss_train_16.append(loss_history_2[-1])\n",
    "\n",
    "y_pred = model.forward(torch.from_numpy(X_test.to_numpy()).float())\n",
    "y_pred_metrics = np.argmax(y_pred.detach().numpy(), axis=1)\n",
    "\n",
    "loss_test_2 = torch.sqrt(loss_f(y_pred, torch.from_numpy(y_test.to_numpy()).reshape(-1).float()))\n",
    "loss_test_16.append(loss_test_2.detach().numpy())\n",
    "print(loss_test_2)"
   ]
  },
  {
   "cell_type": "code",
   "execution_count": null,
   "metadata": {
    "colab": {
     "base_uri": "https://localhost:8080/",
     "height": 374
    },
    "executionInfo": {
     "elapsed": 5685,
     "status": "ok",
     "timestamp": 1653238658117,
     "user": {
      "displayName": "Денис Урюпин",
      "userId": "09594062879991792072"
     },
     "user_tz": -180
    },
    "id": "UJoIH2uDmmGs",
    "outputId": "4e8300c5-6a3d-4719-b155-d2143bebfde8"
   },
   "outputs": [
    {
     "name": "stderr",
     "output_type": "stream",
     "text": [
      "/usr/local/lib/python3.7/dist-packages/torch/nn/modules/loss.py:529: UserWarning: Using a target size (torch.Size([5197])) that is different to the input size (torch.Size([5197, 1])). This will likely lead to incorrect results due to broadcasting. Please ensure they have the same size.\n",
      "  return F.mse_loss(input, target, reduction=self.reduction)\n"
     ]
    },
    {
     "name": "stdout",
     "output_type": "stream",
     "text": [
      "tensor(2.6465, grad_fn=<SqrtBackward0>)\n"
     ]
    },
    {
     "name": "stderr",
     "output_type": "stream",
     "text": [
      "/usr/local/lib/python3.7/dist-packages/torch/nn/modules/loss.py:529: UserWarning: Using a target size (torch.Size([1300])) that is different to the input size (torch.Size([1300, 1])). This will likely lead to incorrect results due to broadcasting. Please ensure they have the same size.\n",
      "  return F.mse_loss(input, target, reduction=self.reduction)\n"
     ]
    },
    {
     "data": {
      "image/png": "[encoded data removed]",
      "text/plain": [
       "<Figure size 432x288 with 1 Axes>"
      ]
     },
     "metadata": {
      "needs_background": "light"
     },
     "output_type": "display_data"
    }
   ],
   "source": [
    "model = nn.Sequential()\n",
    "\n",
    "model.add_module('l1', nn.Linear(in_features=11, out_features=11))\n",
    "model.add_module('n1', nn.Dropout(0.5))\n",
    "model.add_module('a1', nn.Tanh())\n",
    "model.add_module('l2', nn.Linear(in_features=11, out_features=1))\n",
    "optim = torch.optim.Adam(model.parameters(), lr=0.01)\n",
    "loss_f = nn.MSELoss()\n",
    "loss_history_3 = []\n",
    "\n",
    "for epoch in range(50):\n",
    "    optim.zero_grad()\n",
    "    model.train()\n",
    "\n",
    "    y_pred = model.forward(torch.from_numpy(X_train.to_numpy()).float())\n",
    "    \n",
    "    loss = torch.sqrt(loss_f(y_pred, torch.from_numpy(y_train.to_numpy()).reshape(-1).float()))\n",
    "    loss.backward()\n",
    "    \n",
    "    optim.step()\n",
    "\n",
    "    loss_history_3.append(loss.item())\n",
    "\n",
    "plt.plot(loss_history_3)\n",
    "\n",
    "loss_train_16.append(loss_history_3[-1])\n",
    "\n",
    "y_pred = model.forward(torch.from_numpy(X_test.to_numpy()).float())\n",
    "y_pred_metrics = np.argmax(y_pred.detach().numpy(), axis=1)\n",
    "\n",
    "loss_test_3 = torch.sqrt(loss_f(y_pred, torch.from_numpy(y_test.to_numpy()).reshape(-1).float()))\n",
    "loss_test_16.append(loss_test_3.detach().numpy())\n",
    "print(loss_test_3)"
   ]
  },
  {
   "cell_type": "code",
   "execution_count": null,
   "metadata": {
    "colab": {
     "base_uri": "https://localhost:8080/",
     "height": 374
    },
    "executionInfo": {
     "elapsed": 6499,
     "status": "ok",
     "timestamp": 1653238664600,
     "user": {
      "displayName": "Денис Урюпин",
      "userId": "09594062879991792072"
     },
     "user_tz": -180
    },
    "id": "44GbD3wkmmJj",
    "outputId": "3a2b848e-42d1-4026-d878-233d2ed444af"
   },
   "outputs": [
    {
     "name": "stderr",
     "output_type": "stream",
     "text": [
      "/usr/local/lib/python3.7/dist-packages/torch/nn/modules/loss.py:529: UserWarning: Using a target size (torch.Size([5197])) that is different to the input size (torch.Size([5197, 1])). This will likely lead to incorrect results due to broadcasting. Please ensure they have the same size.\n",
      "  return F.mse_loss(input, target, reduction=self.reduction)\n"
     ]
    },
    {
     "name": "stdout",
     "output_type": "stream",
     "text": [
      "tensor(2.4941, grad_fn=<SqrtBackward0>)\n"
     ]
    },
    {
     "name": "stderr",
     "output_type": "stream",
     "text": [
      "/usr/local/lib/python3.7/dist-packages/torch/nn/modules/loss.py:529: UserWarning: Using a target size (torch.Size([1300])) that is different to the input size (torch.Size([1300, 1])). This will likely lead to incorrect results due to broadcasting. Please ensure they have the same size.\n",
      "  return F.mse_loss(input, target, reduction=self.reduction)\n"
     ]
    },
    {
     "data": {
      "image/png": "[encoded data removed]",
      "text/plain": [
       "<Figure size 432x288 with 1 Axes>"
      ]
     },
     "metadata": {
      "needs_background": "light"
     },
     "output_type": "display_data"
    }
   ],
   "source": [
    "model = nn.Sequential()\n",
    "\n",
    "model.add_module('l1', nn.Linear(in_features=11, out_features=11))\n",
    "model.add_module('n1', nn.BatchNorm1d(11))\n",
    "model.add_module('d1', nn.Dropout(0.2))\n",
    "model.add_module('a1', nn.Tanh())\n",
    "model.add_module('l2', nn.Linear(in_features=11, out_features=1))\n",
    "optim = torch.optim.Adam(model.parameters(), lr=0.01)\n",
    "loss_f = nn.MSELoss()\n",
    "loss_history_4 = []\n",
    "\n",
    "for epoch in range(50):\n",
    "    optim.zero_grad()\n",
    "    model.train()\n",
    "\n",
    "    y_pred = model.forward(torch.from_numpy(X_train.to_numpy()).float())\n",
    "    \n",
    "    loss = torch.sqrt(loss_f(y_pred, torch.from_numpy(y_train.to_numpy()).reshape(-1).float()))\n",
    "    loss.backward()\n",
    "    \n",
    "    optim.step()\n",
    "\n",
    "    loss_history_4.append(loss.item())\n",
    "\n",
    "plt.plot(loss_history_4)\n",
    "\n",
    "loss_train_16.append(loss_history_4[-1])\n",
    "\n",
    "y_pred = model.forward(torch.from_numpy(X_test.to_numpy()).float())\n",
    "y_pred_metrics = np.argmax(y_pred.detach().numpy(), axis=1)\n",
    "\n",
    "loss_test_4 = torch.sqrt(loss_f(y_pred, torch.from_numpy(y_test.to_numpy()).reshape(-1).float()))\n",
    "loss_test_16.append(loss_test_4.detach().numpy())\n",
    "print(loss_test_4)"
   ]
  },
  {
   "cell_type": "code",
   "execution_count": null,
   "metadata": {
    "colab": {
     "base_uri": "https://localhost:8080/",
     "height": 374
    },
    "executionInfo": {
     "elapsed": 5995,
     "status": "ok",
     "timestamp": 1653238670583,
     "user": {
      "displayName": "Денис Урюпин",
      "userId": "09594062879991792072"
     },
     "user_tz": -180
    },
    "id": "o1otkW-WmmL4",
    "outputId": "b9f80d49-38b6-48ac-c370-c0db444c42f1"
   },
   "outputs": [
    {
     "name": "stderr",
     "output_type": "stream",
     "text": [
      "/usr/local/lib/python3.7/dist-packages/torch/nn/modules/loss.py:529: UserWarning: Using a target size (torch.Size([5197])) that is different to the input size (torch.Size([5197, 1])). This will likely lead to incorrect results due to broadcasting. Please ensure they have the same size.\n",
      "  return F.mse_loss(input, target, reduction=self.reduction)\n"
     ]
    },
    {
     "name": "stdout",
     "output_type": "stream",
     "text": [
      "tensor(3.0879, grad_fn=<SqrtBackward0>)\n"
     ]
    },
    {
     "name": "stderr",
     "output_type": "stream",
     "text": [
      "/usr/local/lib/python3.7/dist-packages/torch/nn/modules/loss.py:529: UserWarning: Using a target size (torch.Size([1300])) that is different to the input size (torch.Size([1300, 1])). This will likely lead to incorrect results due to broadcasting. Please ensure they have the same size.\n",
      "  return F.mse_loss(input, target, reduction=self.reduction)\n"
     ]
    },
    {
     "data": {
      "image/png": "[encoded data removed]",
      "text/plain": [
       "<Figure size 432x288 with 1 Axes>"
      ]
     },
     "metadata": {
      "needs_background": "light"
     },
     "output_type": "display_data"
    }
   ],
   "source": [
    "model = nn.Sequential()\n",
    "\n",
    "model.add_module('l1', nn.Linear(in_features=11, out_features=11))\n",
    "model.add_module('n1', nn.BatchNorm1d(11))\n",
    "model.add_module('d1', nn.Dropout(0.5))\n",
    "model.add_module('a1', nn.Tanh())\n",
    "model.add_module('l2', nn.Linear(in_features=11, out_features=1))\n",
    "optim = torch.optim.Adam(model.parameters(), lr=0.01)\n",
    "loss_f = nn.MSELoss()\n",
    "loss_history_5 = []\n",
    "\n",
    "for epoch in range(50):\n",
    "    optim.zero_grad()\n",
    "    model.train()\n",
    "\n",
    "    y_pred = model.forward(torch.from_numpy(X_train.to_numpy()).float())\n",
    "    \n",
    "    loss = torch.sqrt(loss_f(y_pred, torch.from_numpy(y_train.to_numpy()).reshape(-1).float()))\n",
    "    loss.backward()\n",
    "    \n",
    "    optim.step()\n",
    "\n",
    "    loss_history_5.append(loss.item())\n",
    "\n",
    "plt.plot(loss_history_5)\n",
    "\n",
    "loss_train_16.append(loss_history_5[-1])\n",
    "\n",
    "y_pred = model.forward(torch.from_numpy(X_test.to_numpy()).float())\n",
    "y_pred_metrics = np.argmax(y_pred.detach().numpy(), axis=1)\n",
    "\n",
    "loss_test_5 = torch.sqrt(loss_f(y_pred, torch.from_numpy(y_test.to_numpy()).reshape(-1).float()))\n",
    "loss_test_16.append(loss_test_5.detach().numpy())\n",
    "print(loss_test_5)"
   ]
  },
  {
   "cell_type": "code",
   "execution_count": null,
   "metadata": {
    "colab": {
     "base_uri": "https://localhost:8080/",
     "height": 281
    },
    "executionInfo": {
     "elapsed": 42,
     "status": "ok",
     "timestamp": 1653238670587,
     "user": {
      "displayName": "Денис Урюпин",
      "userId": "09594062879991792072"
     },
     "user_tz": -180
    },
    "id": "xrafDcqnmmOc",
    "outputId": "0f8af85c-4a3e-4d66-e9b7-116eeaf7728e"
   },
   "outputs": [
    {
     "data": {
      "image/png": "[encoded data removed]",
      "text/plain": [
       "<Figure size 432x288 with 1 Axes>"
      ]
     },
     "metadata": {
      "needs_background": "light"
     },
     "output_type": "display_data"
    }
   ],
   "source": [
    "plt.plot(['BatchNorm1d', 'Dropout0.2', 'Dropout0.5' , 'BN+Dropout0.2', 'BN+Dropout 0.5'], loss_train_16)\n",
    "plt.plot(['BatchNorm1d', 'Dropout0.2', 'Dropout0.5' , 'BN+Dropout0.2', 'BN+Dropout 0.5'], loss_test_16)\n",
    "plt.title('loss')\n",
    "plt.legend(['train', 'test'])\n",
    "plt.show()"
   ]
  },
  {
   "cell_type": "markdown",
   "metadata": {
    "id": "SY7zNAyiOFOM"
   },
   "source": [
    "## 1.7 Постройте финальную модель\n",
    "\n",
    "Используя информацию, полученную на предыдущих этапах, предложите оптимальную конфигурацию нейронной сети для вашей задачи. Обучите модель."
   ]
  },
  {
   "cell_type": "code",
   "execution_count": null,
   "metadata": {
    "colab": {
     "base_uri": "https://localhost:8080/",
     "height": 374
    },
    "executionInfo": {
     "elapsed": 6205,
     "status": "ok",
     "timestamp": 1653238733995,
     "user": {
      "displayName": "Денис Урюпин",
      "userId": "09594062879991792072"
     },
     "user_tz": -180
    },
    "id": "UT_e4iH5OEu9",
    "outputId": "491f286e-fe28-4700-a7cf-219accb966ac"
   },
   "outputs": [
    {
     "name": "stderr",
     "output_type": "stream",
     "text": [
      "/usr/local/lib/python3.7/dist-packages/torch/nn/modules/loss.py:529: UserWarning: Using a target size (torch.Size([5197])) that is different to the input size (torch.Size([5197, 1])). This will likely lead to incorrect results due to broadcasting. Please ensure they have the same size.\n",
      "  return F.mse_loss(input, target, reduction=self.reduction)\n"
     ]
    },
    {
     "name": "stdout",
     "output_type": "stream",
     "text": [
      "tensor(0.8525, grad_fn=<SqrtBackward0>)\n"
     ]
    },
    {
     "name": "stderr",
     "output_type": "stream",
     "text": [
      "/usr/local/lib/python3.7/dist-packages/torch/nn/modules/loss.py:529: UserWarning: Using a target size (torch.Size([1300])) that is different to the input size (torch.Size([1300, 1])). This will likely lead to incorrect results due to broadcasting. Please ensure they have the same size.\n",
      "  return F.mse_loss(input, target, reduction=self.reduction)\n"
     ]
    },
    {
     "data": {
      "image/png": "[encoded data removed]",
      "text/plain": [
       "<Figure size 432x288 with 1 Axes>"
      ]
     },
     "metadata": {
      "needs_background": "light"
     },
     "output_type": "display_data"
    }
   ],
   "source": [
    "X_train, X_test, y_train, y_test = train_test_split(data[columns_per], data[target], train_size=0.8)\n",
    "model = nn.Sequential()\n",
    "\n",
    "model.add_module('l1', nn.Linear(in_features=11, out_features=11))\n",
    "model.add_module('a1', nn.Tanh())\n",
    "model.add_module('l2', nn.Linear(in_features=11, out_features=1))\n",
    "optim = torch.optim.Adam(model.parameters(), lr=0.01)\n",
    "loss_f = nn.MSELoss()\n",
    "loss_history = []\n",
    "\n",
    "for epoch in range(50):\n",
    "    optim.zero_grad()\n",
    "    model.train()\n",
    "\n",
    "    y_pred = model.forward(torch.from_numpy(X_train.to_numpy()).float())\n",
    "    \n",
    "    loss = torch.sqrt(loss_f(y_pred, torch.from_numpy(y_train.to_numpy()).reshape(-1).float()))\n",
    "    loss.backward()\n",
    "    \n",
    "    optim.step()\n",
    "\n",
    "    loss_history.append(loss.item())\n",
    "\n",
    "plt.plot(loss_history)\n",
    "\n",
    "\n",
    "\n",
    "y_pred = model.forward(torch.from_numpy(X_test.to_numpy()).float())\n",
    "y_pred_metrics = np.argmax(y_pred.detach().numpy(), axis=1)\n",
    "\n",
    "loss_test = torch.sqrt(loss_f(y_pred, torch.from_numpy(y_test.to_numpy()).reshape(-1).float()))\n",
    "print(loss_test)"
   ]
  },
  {
   "cell_type": "markdown",
   "metadata": {
    "id": "9ZNIdPjgOzjW"
   },
   "source": [
    "## 1.8 Выводы\n",
    "\n",
    "По итогу можно сказать, что ситуация печальна, так как лучшая оценка была получена в ходе одного из многих испытаний и равна 0.73 (но если честно, то один раз было даже 0.69, но это просто удачная работа train_test_split и не более). В основном, качество оставляет желать лучшего. Да, можно увеличить количество эпох до тысяч, помереть от ожидания, получить 100%-ое переобучение, но получить должное качество. Однако повторюсь, это долго и энергозатратно. Основной вывод в том, что данную задачу логичнее всего решать обычной линейной регрессией или другими методами ML, но никак не нейронками."
   ]
  },
  {
   "cell_type": "markdown",
   "metadata": {
    "id": "Jy4QgfopJBzd"
   },
   "source": [
    "# 2. Искусственная неронная сеть для решения задачи классификации (9 баллов)"
   ]
  },
  {
   "cell_type": "markdown",
   "metadata": {
    "id": "To15w7xbTc2M"
   },
   "source": [
    "## 2.1 Загрузите данные, поделить на train и test\n",
    "\n"
   ]
  },
  {
   "cell_type": "code",
   "execution_count": null,
   "metadata": {
    "colab": {
     "base_uri": "https://localhost:8080/"
    },
    "executionInfo": {
     "elapsed": 3027,
     "status": "ok",
     "timestamp": 1653229633201,
     "user": {
      "displayName": "Денис Урюпин",
      "userId": "09594062879991792072"
     },
     "user_tz": -180
    },
    "id": "Y0hhfC1g32th",
    "outputId": "fdd27512-edad-4c9c-9f49-1038fd393e0f"
   },
   "outputs": [
    {
     "name": "stdout",
     "output_type": "stream",
     "text": [
      "Drive already mounted at /content/gdrive; to attempt to forcibly remount, call drive.mount(\"/content/gdrive\", force_remount=True).\n"
     ]
    }
   ],
   "source": [
    "from google.colab import drive\n",
    "\n",
    "drive.mount('/content/gdrive')\n",
    "root_path = 'gdrive/My Drive/Colab Notebooks/WA_Fn-UseC_-HR-Employee-Attrition.csv'"
   ]
  },
  {
   "cell_type": "code",
   "execution_count": null,
   "metadata": {
    "id": "5EEi0iUFTc2M"
   },
   "outputs": [],
   "source": [
    "data = pd.read_csv(\"/WA_Fn-UseC_-HR-Employee-Attrition.csv\")"
   ]
  },
  {
   "cell_type": "code",
   "execution_count": null,
   "metadata": {
    "colab": {
     "base_uri": "https://localhost:8080/",
     "height": 369
    },
    "executionInfo": {
     "elapsed": 473,
     "status": "ok",
     "timestamp": 1653229127446,
     "user": {
      "displayName": "Денис Урюпин",
      "userId": "09594062879991792072"
     },
     "user_tz": -180
    },
    "id": "SFaTGumQ4CRV",
    "outputId": "f1f70151-a951-473d-d672-ebcb0610147f"
   },
   "outputs": [
    {
     "data": {
      "text/html": [
       "\n",
       "  <div id=\"df-28eea1a6-447f-4501-9679-d5635cd31a0b\">\n",
       "    <div class=\"colab-df-container\">\n",
       "      <div>\n",
       "<style scoped>\n",
       "    .dataframe tbody tr th:only-of-type {\n",
       "        vertical-align: middle;\n",
       "    }\n",
       "\n",
       "    .dataframe tbody tr th {\n",
       "        vertical-align: top;\n",
       "    }\n",
       "\n",
       "    .dataframe thead th {\n",
       "        text-align: right;\n",
       "    }\n",
       "</style>\n",
       "<table border=\"1\" class=\"dataframe\">\n",
       "  <thead>\n",
       "    <tr style=\"text-align: right;\">\n",
       "      <th></th>\n",
       "      <th>Age</th>\n",
       "      <th>Attrition</th>\n",
       "      <th>BusinessTravel</th>\n",
       "      <th>DailyRate</th>\n",
       "      <th>Department</th>\n",
       "      <th>DistanceFromHome</th>\n",
       "      <th>Education</th>\n",
       "      <th>EducationField</th>\n",
       "      <th>EmployeeCount</th>\n",
       "      <th>EmployeeNumber</th>\n",
       "      <th>...</th>\n",
       "      <th>RelationshipSatisfaction</th>\n",
       "      <th>StandardHours</th>\n",
       "      <th>StockOptionLevel</th>\n",
       "      <th>TotalWorkingYears</th>\n",
       "      <th>TrainingTimesLastYear</th>\n",
       "      <th>WorkLifeBalance</th>\n",
       "      <th>YearsAtCompany</th>\n",
       "      <th>YearsInCurrentRole</th>\n",
       "      <th>YearsSinceLastPromotion</th>\n",
       "      <th>YearsWithCurrManager</th>\n",
       "    </tr>\n",
       "  </thead>\n",
       "  <tbody>\n",
       "    <tr>\n",
       "      <th>0</th>\n",
       "      <td>41</td>\n",
       "      <td>Yes</td>\n",
       "      <td>Travel_Rarely</td>\n",
       "      <td>1102</td>\n",
       "      <td>Sales</td>\n",
       "      <td>1</td>\n",
       "      <td>2</td>\n",
       "      <td>Life Sciences</td>\n",
       "      <td>1</td>\n",
       "      <td>1</td>\n",
       "      <td>...</td>\n",
       "      <td>1</td>\n",
       "      <td>80</td>\n",
       "      <td>0</td>\n",
       "      <td>8</td>\n",
       "      <td>0</td>\n",
       "      <td>1</td>\n",
       "      <td>6</td>\n",
       "      <td>4</td>\n",
       "      <td>0</td>\n",
       "      <td>5</td>\n",
       "    </tr>\n",
       "    <tr>\n",
       "      <th>1</th>\n",
       "      <td>49</td>\n",
       "      <td>No</td>\n",
       "      <td>Travel_Frequently</td>\n",
       "      <td>279</td>\n",
       "      <td>Research &amp; Development</td>\n",
       "      <td>8</td>\n",
       "      <td>1</td>\n",
       "      <td>Life Sciences</td>\n",
       "      <td>1</td>\n",
       "      <td>2</td>\n",
       "      <td>...</td>\n",
       "      <td>4</td>\n",
       "      <td>80</td>\n",
       "      <td>1</td>\n",
       "      <td>10</td>\n",
       "      <td>3</td>\n",
       "      <td>3</td>\n",
       "      <td>10</td>\n",
       "      <td>7</td>\n",
       "      <td>1</td>\n",
       "      <td>7</td>\n",
       "    </tr>\n",
       "    <tr>\n",
       "      <th>2</th>\n",
       "      <td>37</td>\n",
       "      <td>Yes</td>\n",
       "      <td>Travel_Rarely</td>\n",
       "      <td>1373</td>\n",
       "      <td>Research &amp; Development</td>\n",
       "      <td>2</td>\n",
       "      <td>2</td>\n",
       "      <td>Other</td>\n",
       "      <td>1</td>\n",
       "      <td>4</td>\n",
       "      <td>...</td>\n",
       "      <td>2</td>\n",
       "      <td>80</td>\n",
       "      <td>0</td>\n",
       "      <td>7</td>\n",
       "      <td>3</td>\n",
       "      <td>3</td>\n",
       "      <td>0</td>\n",
       "      <td>0</td>\n",
       "      <td>0</td>\n",
       "      <td>0</td>\n",
       "    </tr>\n",
       "    <tr>\n",
       "      <th>3</th>\n",
       "      <td>33</td>\n",
       "      <td>No</td>\n",
       "      <td>Travel_Frequently</td>\n",
       "      <td>1392</td>\n",
       "      <td>Research &amp; Development</td>\n",
       "      <td>3</td>\n",
       "      <td>4</td>\n",
       "      <td>Life Sciences</td>\n",
       "      <td>1</td>\n",
       "      <td>5</td>\n",
       "      <td>...</td>\n",
       "      <td>3</td>\n",
       "      <td>80</td>\n",
       "      <td>0</td>\n",
       "      <td>8</td>\n",
       "      <td>3</td>\n",
       "      <td>3</td>\n",
       "      <td>8</td>\n",
       "      <td>7</td>\n",
       "      <td>3</td>\n",
       "      <td>0</td>\n",
       "    </tr>\n",
       "    <tr>\n",
       "      <th>4</th>\n",
       "      <td>27</td>\n",
       "      <td>No</td>\n",
       "      <td>Travel_Rarely</td>\n",
       "      <td>591</td>\n",
       "      <td>Research &amp; Development</td>\n",
       "      <td>2</td>\n",
       "      <td>1</td>\n",
       "      <td>Medical</td>\n",
       "      <td>1</td>\n",
       "      <td>7</td>\n",
       "      <td>...</td>\n",
       "      <td>4</td>\n",
       "      <td>80</td>\n",
       "      <td>1</td>\n",
       "      <td>6</td>\n",
       "      <td>3</td>\n",
       "      <td>3</td>\n",
       "      <td>2</td>\n",
       "      <td>2</td>\n",
       "      <td>2</td>\n",
       "      <td>2</td>\n",
       "    </tr>\n",
       "  </tbody>\n",
       "</table>\n",
       "<p>5 rows × 35 columns</p>\n",
       "</div>\n",
       "      <button class=\"colab-df-convert\" onclick=\"convertToInteractive('df-28eea1a6-447f-4501-9679-d5635cd31a0b')\"\n",
       "              title=\"Convert this dataframe to an interactive table.\"\n",
       "              style=\"display:none;\">\n",
       "        \n",
       "  <svg xmlns=\"http://www.w3.org/2000/svg\" height=\"24px\"viewBox=\"0 0 24 24\"\n",
       "       width=\"24px\">\n",
       "    <path d=\"M0 0h24v24H0V0z\" fill=\"none\"/>\n",
       "    <path d=\"M18.56 5.44l.94 2.06.94-2.06 2.06-.94-2.06-.94-.94-2.06-.94 2.06-2.06.94zm-11 1L8.5 8.5l.94-2.06 2.06-.94-2.06-.94L8.5 2.5l-.94 2.06-2.06.94zm10 10l.94 2.06.94-2.06 2.06-.94-2.06-.94-.94-2.06-.94 2.06-2.06.94z\"/><path d=\"M17.41 7.96l-1.37-1.37c-.4-.4-.92-.59-1.43-.59-.52 0-1.04.2-1.43.59L10.3 9.45l-7.72 7.72c-.78.78-.78 2.05 0 2.83L4 21.41c.39.39.9.59 1.41.59.51 0 1.02-.2 1.41-.59l7.78-7.78 2.81-2.81c.8-.78.8-2.07 0-2.86zM5.41 20L4 18.59l7.72-7.72 1.47 1.35L5.41 20z\"/>\n",
       "  </svg>\n",
       "      </button>\n",
       "      \n",
       "  <style>\n",
       "    .colab-df-container {\n",
       "      display:flex;\n",
       "      flex-wrap:wrap;\n",
       "      gap: 12px;\n",
       "    }\n",
       "\n",
       "    .colab-df-convert {\n",
       "      background-color: #E8F0FE;\n",
       "      border: none;\n",
       "      border-radius: 50%;\n",
       "      cursor: pointer;\n",
       "      display: none;\n",
       "      fill: #1967D2;\n",
       "      height: 32px;\n",
       "      padding: 0 0 0 0;\n",
       "      width: 32px;\n",
       "    }\n",
       "\n",
       "    .colab-df-convert:hover {\n",
       "      background-color: #E2EBFA;\n",
       "      box-shadow: 0px 1px 2px rgba(60, 64, 67, 0.3), 0px 1px 3px 1px rgba(60, 64, 67, 0.15);\n",
       "      fill: #174EA6;\n",
       "    }\n",
       "\n",
       "    [theme=dark] .colab-df-convert {\n",
       "      background-color: #3B4455;\n",
       "      fill: #D2E3FC;\n",
       "    }\n",
       "\n",
       "    [theme=dark] .colab-df-convert:hover {\n",
       "      background-color: #434B5C;\n",
       "      box-shadow: 0px 1px 3px 1px rgba(0, 0, 0, 0.15);\n",
       "      filter: drop-shadow(0px 1px 2px rgba(0, 0, 0, 0.3));\n",
       "      fill: #FFFFFF;\n",
       "    }\n",
       "  </style>\n",
       "\n",
       "      <script>\n",
       "        const buttonEl =\n",
       "          document.querySelector('#df-28eea1a6-447f-4501-9679-d5635cd31a0b button.colab-df-convert');\n",
       "        buttonEl.style.display =\n",
       "          google.colab.kernel.accessAllowed ? 'block' : 'none';\n",
       "\n",
       "        async function convertToInteractive(key) {\n",
       "          const element = document.querySelector('#df-28eea1a6-447f-4501-9679-d5635cd31a0b');\n",
       "          const dataTable =\n",
       "            await google.colab.kernel.invokeFunction('convertToInteractive',\n",
       "                                                     [key], {});\n",
       "          if (!dataTable) return;\n",
       "\n",
       "          const docLinkHtml = 'Like what you see? Visit the ' +\n",
       "            '<a target=\"_blank\" href=https://colab.research.google.com/notebooks/data_table.ipynb>data table notebook</a>'\n",
       "            + ' to learn more about interactive tables.';\n",
       "          element.innerHTML = '';\n",
       "          dataTable['output_type'] = 'display_data';\n",
       "          await google.colab.output.renderOutput(dataTable, element);\n",
       "          const docLink = document.createElement('div');\n",
       "          docLink.innerHTML = docLinkHtml;\n",
       "          element.appendChild(docLink);\n",
       "        }\n",
       "      </script>\n",
       "    </div>\n",
       "  </div>\n",
       "  "
      ],
      "text/plain": [
       "   Age Attrition     BusinessTravel  DailyRate              Department  \\\n",
       "0   41       Yes      Travel_Rarely       1102                   Sales   \n",
       "1   49        No  Travel_Frequently        279  Research & Development   \n",
       "2   37       Yes      Travel_Rarely       1373  Research & Development   \n",
       "3   33        No  Travel_Frequently       1392  Research & Development   \n",
       "4   27        No      Travel_Rarely        591  Research & Development   \n",
       "\n",
       "   DistanceFromHome  Education EducationField  EmployeeCount  EmployeeNumber  \\\n",
       "0                 1          2  Life Sciences              1               1   \n",
       "1                 8          1  Life Sciences              1               2   \n",
       "2                 2          2          Other              1               4   \n",
       "3                 3          4  Life Sciences              1               5   \n",
       "4                 2          1        Medical              1               7   \n",
       "\n",
       "   ...  RelationshipSatisfaction StandardHours  StockOptionLevel  \\\n",
       "0  ...                         1            80                 0   \n",
       "1  ...                         4            80                 1   \n",
       "2  ...                         2            80                 0   \n",
       "3  ...                         3            80                 0   \n",
       "4  ...                         4            80                 1   \n",
       "\n",
       "   TotalWorkingYears  TrainingTimesLastYear WorkLifeBalance  YearsAtCompany  \\\n",
       "0                  8                      0               1               6   \n",
       "1                 10                      3               3              10   \n",
       "2                  7                      3               3               0   \n",
       "3                  8                      3               3               8   \n",
       "4                  6                      3               3               2   \n",
       "\n",
       "  YearsInCurrentRole  YearsSinceLastPromotion  YearsWithCurrManager  \n",
       "0                  4                        0                     5  \n",
       "1                  7                        1                     7  \n",
       "2                  0                        0                     0  \n",
       "3                  7                        3                     0  \n",
       "4                  2                        2                     2  \n",
       "\n",
       "[5 rows x 35 columns]"
      ]
     },
     "execution_count": 120,
     "metadata": {},
     "output_type": "execute_result"
    }
   ],
   "source": [
    "data.head()"
   ]
  },
  {
   "cell_type": "markdown",
   "metadata": {
    "id": "wmtslH2mTc2N"
   },
   "source": [
    "## 2.2 По необходимости проведите преодбработку/нормализацию данных"
   ]
  },
  {
   "cell_type": "code",
   "execution_count": null,
   "metadata": {
    "id": "cg8jS0p0Tc2N"
   },
   "outputs": [],
   "source": [
    "columns_num = ['Age', 'DailyRate',\n",
    "       'DistanceFromHome', 'Education', 'EmployeeCount',\n",
    "       'EmployeeNumber', 'EnvironmentSatisfaction', 'HourlyRate',\n",
    "       'JobInvolvement', 'JobLevel', 'JobSatisfaction',\n",
    "       'MonthlyIncome', 'MonthlyRate', 'NumCompaniesWorked',\n",
    "       'PercentSalaryHike', 'PerformanceRating',\n",
    "       'RelationshipSatisfaction', 'StandardHours', 'StockOptionLevel',\n",
    "       'TotalWorkingYears', 'TrainingTimesLastYear', 'WorkLifeBalance',\n",
    "       'YearsAtCompany', 'YearsInCurrentRole', 'YearsSinceLastPromotion',\n",
    "       'YearsWithCurrManager']\n",
    "columns_cat = ['BusinessTravel', 'Department',\n",
    "       'EducationField', 'Gender', 'JobRole',\n",
    "       'MaritalStatus', 'Over18', 'OverTime']\n",
    "target = ['Attrition']\n",
    "\n",
    "data = data.drop(['Over18'], axis = 1)\n",
    "columns_cat.remove('Over18')\n",
    "\n",
    "data = pd.get_dummies(data, columns=columns_cat)\n",
    "columns_cat_new = []\n",
    "for col_name in columns_cat:\n",
    "    columns_cat_new.extend(filter(lambda x: x.startswith(col_name), data.columns))\n",
    "columns_cat = columns_cat_new\n",
    "\n",
    "data['Attrition'] = data['Attrition'].replace(to_replace =\"Yes\", value = 1) \n",
    "data['Attrition'] = data['Attrition'].replace(to_replace =\"No\", value = 0) \n",
    "\n",
    "data = data.drop(['EmployeeCount'], axis = 1)\n",
    "columns_num.remove('EmployeeCount')\n",
    "data = data.drop(['StandardHours'], axis = 1)\n",
    "columns_num.remove('StandardHours')\n",
    "columns_num.remove('HourlyRate')\n",
    "columns_num.remove('PerformanceRating')\n",
    "columns_cat.remove('JobRole_Research Scientist')\n",
    "\n",
    "data = data.drop(['HourlyRate'], axis = 1)\n",
    "data = data.drop(['PerformanceRating'], axis = 1)\n",
    "data = data.drop(['JobRole_Research Scientist'], axis = 1)\n",
    "\n",
    "from sklearn.preprocessing import StandardScaler\n",
    "\n",
    "pca = StandardScaler()\n",
    "pca.fit(data[columns_num + columns_cat])\n",
    "data[columns_num + columns_cat] = pca.transform(data[columns_num + columns_cat])"
   ]
  },
  {
   "cell_type": "markdown",
   "metadata": {
    "id": "btEXeSAUTc2N"
   },
   "source": [
    "## 2.3 Попробуйте различное количество слоёв\n",
    "\n",
    "Обучите 4 модели, используя различное количество линейных слоёв: 1 (=логистическая регрессия), 2, 3, 4. Между двумя линейными слоями должна быть фунция активации, например, сигмоида. На последнем слое в качестве функции активации используйте сигмоиду.\n",
    "\n",
    "Постройте: 1) график loss для train и test в зависимости от используемого количетсва слоёв; 2) график accuracy для train и test в зависимости от используемого количества слоёв."
   ]
  },
  {
   "cell_type": "code",
   "execution_count": null,
   "metadata": {
    "id": "T2Qm3SpqTc2N"
   },
   "outputs": [],
   "source": [
    "X_train, X_test, y_train, y_test = train_test_split(data[columns_num + columns_cat], data[target], train_size=0.8)\n",
    "loss_train = []\n",
    "loss_test = []\n",
    "f1_train = []\n",
    "f1_test = []"
   ]
  },
  {
   "cell_type": "markdown",
   "metadata": {
    "id": "TQ9Lp95kzjcb"
   },
   "source": [
    "Один слой"
   ]
  },
  {
   "cell_type": "code",
   "execution_count": null,
   "metadata": {
    "colab": {
     "base_uri": "https://localhost:8080/",
     "height": 283
    },
    "executionInfo": {
     "elapsed": 741,
     "status": "ok",
     "timestamp": 1653224802837,
     "user": {
      "displayName": "Денис Урюпин",
      "userId": "09594062879991792072"
     },
     "user_tz": -180
    },
    "id": "K5kBXPoAzhWv",
    "outputId": "e67c287b-2e4d-4408-e5eb-dd1cab904ac8"
   },
   "outputs": [
    {
     "name": "stdout",
     "output_type": "stream",
     "text": [
      "0.5891525423728814\n"
     ]
    },
    {
     "data": {
      "image/png": "[encoded data removed]",
      "text/plain": [
       "<Figure size 432x288 with 1 Axes>"
      ]
     },
     "metadata": {
      "needs_background": "light"
     },
     "output_type": "display_data"
    }
   ],
   "source": [
    "model = nn.Sequential()\n",
    "\n",
    "model.add_module('l1', nn.Linear(in_features=49, out_features=2))\n",
    "model.add_module('a1', nn.Sigmoid())\n",
    "optim = torch.optim.RMSprop(model.parameters(), lr=0.01, alpha=0.2, momentum=0)\n",
    "loss_f = F.cross_entropy\n",
    "\n",
    "loss_history_1 = []\n",
    "\n",
    "for epoch in range(10):\n",
    "    optim.zero_grad()\n",
    "    model.train()\n",
    "\n",
    "    y_pred = model.forward(torch.from_numpy(X_train.to_numpy()).float())\n",
    "    \n",
    "    loss = loss_f(y_pred, torch.from_numpy(y_train.to_numpy()).reshape(-1))\n",
    "    loss.backward()\n",
    "    \n",
    "    optim.step()\n",
    "\n",
    "    loss_history_1.append(loss.item())\n",
    "\n",
    "plt.plot(loss_history_1)\n",
    "f1_1_train = f1_score(y_train, np.argmax(y_pred.detach().numpy(), axis=1), average='macro')\n",
    "f1_train.append(f1_1_train)\n",
    "loss_train.append(loss_history_1[-1])\n",
    "\n",
    "y_pred = model.forward(torch.from_numpy(X_test.to_numpy()).float())\n",
    "y_pred_metrics = np.argmax(y_pred.detach().numpy(), axis=1)\n",
    "f1_1 = f1_score(y_test, y_pred_metrics, average='macro')\n",
    "f1_test.append(f1_1)\n",
    "print(f1_1)\n",
    "loss_test_1 = loss_f(y_pred, torch.from_numpy(y_test.to_numpy()).reshape(-1))\n",
    "loss_test.append(loss_test_1.detach().numpy())"
   ]
  },
  {
   "cell_type": "markdown",
   "metadata": {
    "id": "0hoHA2Rszr3U"
   },
   "source": [
    "Два слоя"
   ]
  },
  {
   "cell_type": "code",
   "execution_count": null,
   "metadata": {
    "colab": {
     "base_uri": "https://localhost:8080/",
     "height": 283
    },
    "executionInfo": {
     "elapsed": 390,
     "status": "ok",
     "timestamp": 1653224805905,
     "user": {
      "displayName": "Денис Урюпин",
      "userId": "09594062879991792072"
     },
     "user_tz": -180
    },
    "id": "NvwtEbAOzhhp",
    "outputId": "ef3e39e8-53c4-48b9-8088-cca0f2f7a3ea"
   },
   "outputs": [
    {
     "name": "stdout",
     "output_type": "stream",
     "text": [
      "0.695900702270129\n"
     ]
    },
    {
     "data": {
      "image/png": "[encoded data removed]",
      "text/plain": [
       "<Figure size 432x288 with 1 Axes>"
      ]
     },
     "metadata": {
      "needs_background": "light"
     },
     "output_type": "display_data"
    }
   ],
   "source": [
    "model = nn.Sequential()\n",
    "\n",
    "model.add_module('l1', nn.Linear(in_features=49, out_features=49))\n",
    "model.add_module('a1', nn.Tanh())\n",
    "model.add_module('l2', nn.Linear(in_features=49, out_features=2))\n",
    "model.add_module('a2', nn.Sigmoid())\n",
    "\n",
    "optim = torch.optim.RMSprop(model.parameters(), lr=0.01, alpha=0.2, momentum=0)\n",
    "loss_f = F.cross_entropy\n",
    "loss_history_2 = []\n",
    "\n",
    "for epoch in range(10):\n",
    "    optim.zero_grad()\n",
    "    model.train()\n",
    "\n",
    "    y_pred = model.forward(torch.from_numpy(X_train.to_numpy()).float())\n",
    "    \n",
    "    loss = loss_f(y_pred, torch.from_numpy(y_train.to_numpy()).reshape(-1))\n",
    "    loss.backward()\n",
    "    \n",
    "    optim.step()\n",
    "\n",
    "    loss_history_2.append(loss.item())\n",
    "\n",
    "plt.plot(loss_history_2)\n",
    "f1_2_train = f1_score(y_train, np.argmax(y_pred.detach().numpy(), axis=1), average='macro')\n",
    "f1_train.append(f1_2_train)\n",
    "loss_train.append(loss_history_2[-1])\n",
    "\n",
    "y_pred = model.forward(torch.from_numpy(X_test.to_numpy()).float())\n",
    "y_pred_metrics = np.argmax(y_pred.detach().numpy(), axis=1)\n",
    "f1_2 = f1_score(y_test, y_pred_metrics, average='macro')\n",
    "f1_test.append(f1_2)\n",
    "print(f1_2)\n",
    "loss_test_2 = loss_f(y_pred, torch.from_numpy(y_test.to_numpy()).reshape(-1))\n",
    "loss_test.append(loss_test_2.detach().numpy())"
   ]
  },
  {
   "cell_type": "markdown",
   "metadata": {
    "id": "PoHPRWzKz0Uq"
   },
   "source": [
    "Три слоя"
   ]
  },
  {
   "cell_type": "code",
   "execution_count": null,
   "metadata": {
    "colab": {
     "base_uri": "https://localhost:8080/",
     "height": 283
    },
    "executionInfo": {
     "elapsed": 329,
     "status": "ok",
     "timestamp": 1653224809587,
     "user": {
      "displayName": "Денис Урюпин",
      "userId": "09594062879991792072"
     },
     "user_tz": -180
    },
    "id": "PQEhrRtnzhkR",
    "outputId": "e43e6e78-600e-41af-d924-111002d2e20d"
   },
   "outputs": [
    {
     "name": "stdout",
     "output_type": "stream",
     "text": [
      "0.7325536062378167\n"
     ]
    },
    {
     "data": {
      "image/png": "[encoded data removed]",
      "text/plain": [
       "<Figure size 432x288 with 1 Axes>"
      ]
     },
     "metadata": {
      "needs_background": "light"
     },
     "output_type": "display_data"
    }
   ],
   "source": [
    "model = nn.Sequential()\n",
    "\n",
    "model.add_module('l1', nn.Linear(in_features=49, out_features=49))\n",
    "model.add_module('a1', nn.Tanh())\n",
    "model.add_module('l2', nn.Linear(in_features=49, out_features=49))\n",
    "model.add_module('a2', nn.Tanh())\n",
    "model.add_module('l3', nn.Linear(in_features=49, out_features=2))\n",
    "model.add_module('a3', nn.Sigmoid())\n",
    "\n",
    "optim = torch.optim.RMSprop(model.parameters(), lr=0.01, alpha=0.2, momentum=0)\n",
    "loss_f = F.cross_entropy\n",
    "loss_history_3 = []\n",
    "\n",
    "for epoch in range(10):\n",
    "    optim.zero_grad()\n",
    "    model.train()\n",
    "\n",
    "    y_pred = model.forward(torch.from_numpy(X_train.to_numpy()).float())\n",
    "    \n",
    "    loss = loss_f(y_pred, torch.from_numpy(y_train.to_numpy()).reshape(-1))\n",
    "    loss.backward()\n",
    "    \n",
    "    optim.step()\n",
    "\n",
    "    loss_history_3.append(loss.item())\n",
    "\n",
    "plt.plot(loss_history_3)\n",
    "f1_3_train = f1_score(y_train, np.argmax(y_pred.detach().numpy(), axis=1), average='macro')\n",
    "f1_train.append(f1_3_train)\n",
    "loss_train.append(loss_history_3[-1])\n",
    "\n",
    "y_pred = model.forward(torch.from_numpy(X_test.to_numpy()).float())\n",
    "y_pred_metrics = np.argmax(y_pred.detach().numpy(), axis=1)\n",
    "f1_3 = f1_score(y_test, y_pred_metrics, average='macro')\n",
    "f1_test.append(f1_3)\n",
    "print(f1_3)\n",
    "loss_test_3 = loss_f(y_pred, torch.from_numpy(y_test.to_numpy()).reshape(-1))\n",
    "loss_test.append(loss_test_3.detach().numpy())"
   ]
  },
  {
   "cell_type": "markdown",
   "metadata": {
    "id": "8JKKgHCM0EFI"
   },
   "source": [
    "Четыре слоя"
   ]
  },
  {
   "cell_type": "code",
   "execution_count": null,
   "metadata": {
    "colab": {
     "base_uri": "https://localhost:8080/",
     "height": 283
    },
    "executionInfo": {
     "elapsed": 335,
     "status": "ok",
     "timestamp": 1653224817868,
     "user": {
      "displayName": "Денис Урюпин",
      "userId": "09594062879991792072"
     },
     "user_tz": -180
    },
    "id": "hPVejbzFzhm4",
    "outputId": "41ae24a0-c95b-4613-aa97-bff1862004f4"
   },
   "outputs": [
    {
     "name": "stdout",
     "output_type": "stream",
     "text": [
      "0.675456887035447\n"
     ]
    },
    {
     "data": {
      "image/png": "[encoded data removed]",
      "text/plain": [
       "<Figure size 432x288 with 1 Axes>"
      ]
     },
     "metadata": {
      "needs_background": "light"
     },
     "output_type": "display_data"
    }
   ],
   "source": [
    "model = nn.Sequential()\n",
    "\n",
    "model.add_module('l1', nn.Linear(in_features=49, out_features=49))\n",
    "model.add_module('a1', nn.Tanh())\n",
    "model.add_module('l2', nn.Linear(in_features=49, out_features=49))\n",
    "model.add_module('a2', nn.Tanh())\n",
    "model.add_module('l3', nn.Linear(in_features=49, out_features=49))\n",
    "model.add_module('a3', nn.Tanh())\n",
    "model.add_module('l4', nn.Linear(in_features=49, out_features=2))\n",
    "model.add_module('a4', nn.Sigmoid())\n",
    "\n",
    "optim = torch.optim.RMSprop(model.parameters(), lr=0.01, alpha=0.2, momentum=0)\n",
    "loss_f = F.cross_entropy\n",
    "loss_history_4 = []\n",
    "\n",
    "for epoch in range(10):\n",
    "    optim.zero_grad()\n",
    "    model.train()\n",
    "\n",
    "    y_pred = model.forward(torch.from_numpy(X_train.to_numpy()).float())\n",
    "    \n",
    "    loss = loss_f(y_pred, torch.from_numpy(y_train.to_numpy()).reshape(-1))\n",
    "    loss.backward()\n",
    "    \n",
    "    optim.step()\n",
    "\n",
    "    loss_history_4.append(loss.item())\n",
    "\n",
    "plt.plot(loss_history_4)\n",
    "f1_4_train = f1_score(y_train, np.argmax(y_pred.detach().numpy(), axis=1), average='macro')\n",
    "f1_train.append(f1_4_train)\n",
    "loss_train.append(loss_history_4[-1])\n",
    "\n",
    "y_pred = model.forward(torch.from_numpy(X_test.to_numpy()).float())\n",
    "y_pred_metrics = np.argmax(y_pred.detach().numpy(), axis=1)\n",
    "f1_4 = f1_score(y_test, y_pred_metrics, average='macro')\n",
    "f1_test.append(f1_4)\n",
    "print(f1_4)\n",
    "loss_test_4 = loss_f(y_pred, torch.from_numpy(y_test.to_numpy()).reshape(-1))\n",
    "loss_test.append(loss_test_4.detach().numpy())"
   ]
  },
  {
   "cell_type": "markdown",
   "metadata": {
    "id": "JLS9QP6D0LIo"
   },
   "source": [
    "Отрисовка"
   ]
  },
  {
   "cell_type": "code",
   "execution_count": null,
   "metadata": {
    "colab": {
     "base_uri": "https://localhost:8080/",
     "height": 545
    },
    "executionInfo": {
     "elapsed": 736,
     "status": "ok",
     "timestamp": 1653224821919,
     "user": {
      "displayName": "Денис Урюпин",
      "userId": "09594062879991792072"
     },
     "user_tz": -180
    },
    "id": "oO2VSEE1zhph",
    "outputId": "87a21a2c-fd6d-4875-be11-be18a29ac4f9"
   },
   "outputs": [
    {
     "data": {
      "image/png": "[encoded data removed]",
      "text/plain": [
       "<Figure size 432x288 with 1 Axes>"
      ]
     },
     "metadata": {
      "needs_background": "light"
     },
     "output_type": "display_data"
    },
    {
     "data": {
      "image/png": "[encoded data removed]",
      "text/plain": [
       "<Figure size 432x288 with 1 Axes>"
      ]
     },
     "metadata": {
      "needs_background": "light"
     },
     "output_type": "display_data"
    }
   ],
   "source": [
    "plt.plot([1, 2, 3 , 4], loss_train)\n",
    "plt.plot([1, 2, 3 , 4], loss_test)\n",
    "plt.title('loss')\n",
    "plt.legend(['train', 'test'])\n",
    "plt.show()\n",
    "plt.plot([1, 2, 3 , 4], f1_train)\n",
    "plt.plot([1, 2, 3 , 4], f1_test)\n",
    "plt.title('f1')\n",
    "plt.legend(['train', 'test'])\n",
    "plt.show()"
   ]
  },
  {
   "cell_type": "markdown",
   "metadata": {
    "id": "XkGzw7o-Tc2O"
   },
   "source": [
    "## 2.4 Попробуйте различные функции активации\n",
    "\n",
    "Обучите 4 модели, используя 4 различных функции активации на промежуточных слоях: sigmoid, tanh, ReLU, ELU. На выходном слое в качестве функции активации используйте сигмоиду.\n",
    "\n",
    "Постройте: 1) график loss для train и test в зависимости от используемой функции активации; 2) график accuracy для train и test в зависимости от используемой функции активации;"
   ]
  },
  {
   "cell_type": "code",
   "execution_count": null,
   "metadata": {
    "colab": {
     "base_uri": "https://localhost:8080/",
     "height": 336
    },
    "executionInfo": {
     "elapsed": 899,
     "status": "ok",
     "timestamp": 1653224851271,
     "user": {
      "displayName": "Денис Урюпин",
      "userId": "09594062879991792072"
     },
     "user_tz": -180
    },
    "id": "9G7xxbgjTc2O",
    "outputId": "1c2b568e-e3ba-46a3-8a25-390bc418776f"
   },
   "outputs": [
    {
     "name": "stdout",
     "output_type": "stream",
     "text": [
      "0.4585635359116022\n",
      "0.728001644736842\n",
      "0.628927170390585\n",
      "0.6433259713192521\n"
     ]
    },
    {
     "data": {
      "image/png": "[encoded data removed]",
      "text/plain": [
       "<Figure size 432x288 with 1 Axes>"
      ]
     },
     "metadata": {
      "needs_background": "light"
     },
     "output_type": "display_data"
    }
   ],
   "source": [
    "X_train, X_test, y_train, y_test = train_test_split(data[columns_num + columns_cat], data[target], train_size=0.8)\n",
    "loss_train_24 = []\n",
    "loss_test_24 = []\n",
    "f1_train_24 = []\n",
    "f1_test_24 = []\n",
    "Sigmoid = nn.Sigmoid()\n",
    "Tanh = nn.Tanh()\n",
    "ReLU = nn.ReLU()\n",
    "ELU = nn.ELU()\n",
    "\n",
    "activ = [Sigmoid, Tanh, ReLU, ELU]\n",
    "for act in activ:\n",
    "    model = nn.Sequential()\n",
    "    model.add_module('l1', nn.Linear(in_features=49, out_features=49))\n",
    "    model.add_module('a1', act)\n",
    "    model.add_module('l2', nn.Linear(in_features=49, out_features=49))\n",
    "    model.add_module('a2', act)\n",
    "    model.add_module('l3', nn.Linear(in_features=49, out_features=2))\n",
    "    model.add_module('a3', nn.Sigmoid())\n",
    "    optim = torch.optim.RMSprop(model.parameters(), lr=0.01, alpha=0.5, momentum=0)\n",
    "    loss_f = F.cross_entropy\n",
    "    loss_history = []\n",
    "    for epoch in range(10):\n",
    "        optim.zero_grad()\n",
    "        model.train()\n",
    "\n",
    "        y_pred_train = model.forward(torch.from_numpy(X_train.to_numpy()).float())\n",
    "    \n",
    "        loss = loss_f(y_pred_train, torch.from_numpy(y_train.to_numpy()).reshape(-1))\n",
    "        loss.backward()\n",
    "    \n",
    "        optim.step()\n",
    "\n",
    "        loss_history.append(loss.item())\n",
    "\n",
    "    plt.plot(loss_history)\n",
    "    f1_train = f1_score(y_train, np.argmax(y_pred_train.detach().numpy(), axis=1), average='macro')\n",
    "    f1_train_24.append(f1_train)\n",
    "    loss_train_24.append(loss_history[-1])\n",
    "    \n",
    "    y_pred = model.forward(torch.from_numpy(X_test.to_numpy()).float())\n",
    "    y_pred_metrics = np.argmax(y_pred.detach().numpy(), axis=1)\n",
    "    f1 = f1_score(y_test, y_pred_metrics, average='macro')\n",
    "    f1_test_24.append(f1)\n",
    "    print(f1)\n",
    "    loss_test = loss_f(y_pred, torch.from_numpy(y_test.to_numpy()).reshape(-1))\n",
    "    loss_test_24.append(loss_test.detach().numpy())"
   ]
  },
  {
   "cell_type": "markdown",
   "metadata": {
    "id": "qkTDuTay0Wvu"
   },
   "source": [
    "Отрисовка"
   ]
  },
  {
   "cell_type": "code",
   "execution_count": null,
   "metadata": {
    "colab": {
     "base_uri": "https://localhost:8080/",
     "height": 545
    },
    "executionInfo": {
     "elapsed": 957,
     "status": "ok",
     "timestamp": 1653224855964,
     "user": {
      "displayName": "Денис Урюпин",
      "userId": "09594062879991792072"
     },
     "user_tz": -180
    },
    "id": "E8hC9f8B0VPd",
    "outputId": "6ca68c55-aa58-4e97-c3e0-63209da48a75"
   },
   "outputs": [
    {
     "data": {
      "image/png": "[encoded data removed]",
      "text/plain": [
       "<Figure size 432x288 with 1 Axes>"
      ]
     },
     "metadata": {
      "needs_background": "light"
     },
     "output_type": "display_data"
    },
    {
     "data": {
      "image/png": "[encoded data removed]",
      "text/plain": [
       "<Figure size 432x288 with 1 Axes>"
      ]
     },
     "metadata": {
      "needs_background": "light"
     },
     "output_type": "display_data"
    }
   ],
   "source": [
    "plt.plot(['Sigmoid', 'Tanh', 'ReLU', 'ELU'], loss_train_24)\n",
    "plt.plot(['Sigmoid', 'Tanh', 'ReLU', 'ELU'], loss_test_24)\n",
    "plt.title('loss')\n",
    "plt.legend(['train', 'test'])\n",
    "plt.show()\n",
    "plt.plot(['Sigmoid', 'Tanh', 'ReLU', 'ELU'], f1_train_24)\n",
    "plt.plot(['Sigmoid', 'Tanh', 'ReLU', 'ELU'], f1_test_24)\n",
    "plt.title('f1')\n",
    "plt.legend(['train', 'test'])\n",
    "plt.show()"
   ]
  },
  {
   "cell_type": "markdown",
   "metadata": {
    "id": "lRFVFDcqTc2O"
   },
   "source": [
    "## 2.5 Попробуйте различные алгоритмы оптимизации\n",
    "\n",
    "Обучите 4 модели, используя 4 различных алгоритма оптимизации: SGD, SGD with momentum, RMSprop, Adam\n",
    "\n",
    "Постройте: 1) график loss для train и test в зависимости от используемого  алгоритма оптимизации; 2) график accuracy для train и test в зависимости от используемого  алгоритма оптимизации."
   ]
  },
  {
   "cell_type": "code",
   "execution_count": null,
   "metadata": {
    "colab": {
     "base_uri": "https://localhost:8080/",
     "height": 338
    },
    "executionInfo": {
     "elapsed": 910,
     "status": "ok",
     "timestamp": 1653224863745,
     "user": {
      "displayName": "Денис Урюпин",
      "userId": "09594062879991792072"
     },
     "user_tz": -180
    },
    "id": "OVXBQqYITc2O",
    "outputId": "76f94309-c149-4f05-8c8d-4bc848c985e9"
   },
   "outputs": [
    {
     "name": "stdout",
     "output_type": "stream",
     "text": [
      "0.4463276836158192\n",
      "0.4463276836158192\n",
      "0.6324511238196568\n",
      "0.7594799566630551\n"
     ]
    },
    {
     "data": {
      "image/png": "[encoded data removed]",
      "text/plain": [
       "<Figure size 432x288 with 1 Axes>"
      ]
     },
     "metadata": {
      "needs_background": "light"
     },
     "output_type": "display_data"
    }
   ],
   "source": [
    "X_train, X_test, y_train, y_test = train_test_split(data[columns_num + columns_cat], data[target], train_size=0.8)\n",
    "loss_train_25 = []\n",
    "loss_test_25 = []\n",
    "f1_train_25 = []\n",
    "f1_test_25 = []\n",
    "model = nn.Sequential()\n",
    "model.add_module('l1', nn.Linear(in_features=49, out_features=49))\n",
    "model.add_module('a1', nn.Tanh())\n",
    "model.add_module('l2', nn.Linear(in_features=49, out_features=49))\n",
    "model.add_module('a2', nn.Tanh())\n",
    "model.add_module('l3', nn.Linear(in_features=49, out_features=2))\n",
    "model.add_module('a3', nn.Sigmoid())\n",
    "SGD = torch.optim.SGD(model.parameters(), lr=0.2, momentum=0)\n",
    "SGD_with_momentum = torch.optim.SGD(model.parameters(), lr=0.2, momentum=0.9)\n",
    "RMSprop = torch.optim.RMSprop(model.parameters(), lr=0.01, alpha=0.5, momentum=0)\n",
    "Adam = torch.optim.Adam(model.parameters(), lr=0.01)\n",
    "loss_f = F.cross_entropy\n",
    "opt = [SGD, SGD_with_momentum, RMSprop, Adam]\n",
    "for optim in opt:\n",
    "    loss_history = []\n",
    "    for epoch in range(10):\n",
    "        optim.zero_grad()\n",
    "        model.train()\n",
    "\n",
    "        y_pred_train = model.forward(torch.from_numpy(X_train.to_numpy()).float())\n",
    "    \n",
    "        loss = loss_f(y_pred_train, torch.from_numpy(y_train.to_numpy()).reshape(-1))\n",
    "        loss.backward()\n",
    "    \n",
    "        optim.step()\n",
    "\n",
    "        loss_history.append(loss.item())\n",
    "\n",
    "    plt.plot(loss_history)\n",
    "    f1_train = f1_score(y_train, np.argmax(y_pred_train.detach().numpy(), axis=1), average='macro')\n",
    "    f1_train_25.append(f1_train)\n",
    "    loss_train_25.append(loss_history[-1])\n",
    "    \n",
    "    y_pred = model.forward(torch.from_numpy(X_test.to_numpy()).float())\n",
    "    y_pred_metrics = np.argmax(y_pred.detach().numpy(), axis=1)\n",
    "    f1 = f1_score(y_test, y_pred_metrics, average='macro')\n",
    "    f1_test_25.append(f1)\n",
    "    print(f1)\n",
    "    loss_test = loss_f(y_pred, torch.from_numpy(y_test.to_numpy()).reshape(-1))\n",
    "    loss_test_25.append(loss_test.detach().numpy())"
   ]
  },
  {
   "cell_type": "markdown",
   "metadata": {
    "id": "ZzaOM9Si0hDU"
   },
   "source": [
    "Отрисовка"
   ]
  },
  {
   "cell_type": "code",
   "execution_count": null,
   "metadata": {
    "colab": {
     "base_uri": "https://localhost:8080/",
     "height": 547
    },
    "executionInfo": {
     "elapsed": 549,
     "status": "ok",
     "timestamp": 1653224868270,
     "user": {
      "displayName": "Денис Урюпин",
      "userId": "09594062879991792072"
     },
     "user_tz": -180
    },
    "id": "0hxlU-qS0iqH",
    "outputId": "3036f072-0447-490a-ced1-aaf3328465f3"
   },
   "outputs": [
    {
     "data": {
      "image/png": "[encoded data removed]",
      "text/plain": [
       "<Figure size 432x288 with 1 Axes>"
      ]
     },
     "metadata": {
      "needs_background": "light"
     },
     "output_type": "display_data"
    },
    {
     "data": {
      "image/png": "[encoded data removed]",
      "text/plain": [
       "<Figure size 432x288 with 1 Axes>"
      ]
     },
     "metadata": {
      "needs_background": "light"
     },
     "output_type": "display_data"
    }
   ],
   "source": [
    "plt.plot(['SGD', 'SGD_with_momentum', 'RMSprop', 'Adam'], loss_train_25)\n",
    "plt.plot(['SGD', 'SGD_with_momentum', 'RMSprop', 'Adam'], loss_test_25)\n",
    "plt.title('loss')\n",
    "plt.legend(['train', 'test'])\n",
    "plt.show()\n",
    "plt.plot(['SGD', 'SGD_with_momentum', 'RMSprop', 'Adam'], f1_train_25)\n",
    "plt.plot(['SGD', 'SGD_with_momentum', 'RMSprop', 'Adam'], f1_test_25)\n",
    "plt.title('f1')\n",
    "plt.legend(['train', 'test'])\n",
    "plt.show()"
   ]
  },
  {
   "cell_type": "markdown",
   "metadata": {
    "id": "ihobg30TTc2O"
   },
   "source": [
    "## 2.6 Попробуйте добавить dropout и batch norm\n",
    "\n",
    "Обучите 5 моделей, используя 5 различных конфигураций: только BatchNorm, только dropout 0.2, только dropout 0.5, BatchNorm + dropout 0.2, BatchNorm + dropout 0.5.\n",
    "\n",
    "Постройте: 1) график loss для train и test в зависимости от используемой конфигурации; 2) график accuracy для train и test в зависимости от используемой конфигурации."
   ]
  },
  {
   "cell_type": "code",
   "execution_count": null,
   "metadata": {
    "id": "GvAwr2BETc2P"
   },
   "outputs": [],
   "source": [
    "loss_train_26 = []\n",
    "loss_test_26 = []\n",
    "f1_train_26 = []\n",
    "f1_test_26 = []"
   ]
  },
  {
   "cell_type": "code",
   "execution_count": null,
   "metadata": {
    "colab": {
     "base_uri": "https://localhost:8080/",
     "height": 283
    },
    "executionInfo": {
     "elapsed": 324,
     "status": "ok",
     "timestamp": 1653225099885,
     "user": {
      "displayName": "Денис Урюпин",
      "userId": "09594062879991792072"
     },
     "user_tz": -180
    },
    "id": "kqaqNrcu0olc",
    "outputId": "43d6b812-8554-4afa-b316-80de68b34164"
   },
   "outputs": [
    {
     "name": "stdout",
     "output_type": "stream",
     "text": [
      "0.7450581343904296\n"
     ]
    },
    {
     "data": {
      "image/png": "[encoded data removed]",
      "text/plain": [
       "<Figure size 432x288 with 1 Axes>"
      ]
     },
     "metadata": {
      "needs_background": "light"
     },
     "output_type": "display_data"
    }
   ],
   "source": [
    "X_train, X_test, y_train, y_test = train_test_split(data[columns_num + columns_cat], data[target], train_size=0.8)\n",
    "model = nn.Sequential()\n",
    "\n",
    "model.add_module('l1', nn.Linear(in_features=49, out_features=49))\n",
    "model.add_module('n1', nn.BatchNorm1d(49))\n",
    "model.add_module('a1', nn.Tanh())\n",
    "model.add_module('l2', nn.Linear(in_features=49, out_features=49))\n",
    "model.add_module('n2', nn.BatchNorm1d(49))\n",
    "model.add_module('a2', nn.Tanh())\n",
    "model.add_module('l3', nn.Linear(in_features=49, out_features=2))\n",
    "model.add_module('a3', nn.Sigmoid())\n",
    "\n",
    "optim = torch.optim.RMSprop(model.parameters(), lr=0.01, alpha=0.5, momentum=0)\n",
    "loss_f = F.cross_entropy\n",
    "loss_history_1 = []\n",
    "\n",
    "for epoch in range(10):\n",
    "    optim.zero_grad()\n",
    "    model.train()\n",
    "\n",
    "    y_pred = model.forward(torch.from_numpy(X_train.to_numpy()).float())\n",
    "    \n",
    "    loss = loss_f(y_pred, torch.from_numpy(y_train.to_numpy()).reshape(-1))\n",
    "    loss.backward()\n",
    "    \n",
    "    optim.step()\n",
    "\n",
    "    loss_history_1.append(loss.item())\n",
    "\n",
    "plt.plot(loss_history_1)\n",
    "f1_1_train = f1_score(y_train, np.argmax(y_pred.detach().numpy(), axis=1), average='macro')\n",
    "f1_train_26.append(f1_1_train)\n",
    "loss_train_26.append(loss_history_1[-1])\n",
    "\n",
    "y_pred = model.forward(torch.from_numpy(X_test.to_numpy()).float())\n",
    "y_pred_metrics = np.argmax(y_pred.detach().numpy(), axis=1)\n",
    "f1_1 = f1_score(y_test, y_pred_metrics, average='macro')\n",
    "f1_test_26.append(f1_1)\n",
    "print(f1_1)\n",
    "loss_test_1 = loss_f(y_pred, torch.from_numpy(y_test.to_numpy()).reshape(-1))\n",
    "loss_test_26.append(loss_test_1.detach().numpy())"
   ]
  },
  {
   "cell_type": "code",
   "execution_count": null,
   "metadata": {
    "colab": {
     "base_uri": "https://localhost:8080/",
     "height": 283
    },
    "executionInfo": {
     "elapsed": 309,
     "status": "ok",
     "timestamp": 1653225102256,
     "user": {
      "displayName": "Денис Урюпин",
      "userId": "09594062879991792072"
     },
     "user_tz": -180
    },
    "id": "nGGsZzkE0ooJ",
    "outputId": "a7c5fb7d-1870-406b-8774-3be45acfbd79"
   },
   "outputs": [
    {
     "name": "stdout",
     "output_type": "stream",
     "text": [
      "0.714605088983674\n"
     ]
    },
    {
     "data": {
      "image/png": "[encoded data removed]",
      "text/plain": [
       "<Figure size 432x288 with 1 Axes>"
      ]
     },
     "metadata": {
      "needs_background": "light"
     },
     "output_type": "display_data"
    }
   ],
   "source": [
    "X_train, X_test, y_train, y_test = train_test_split(data[columns_num + columns_cat], data[target], train_size=0.8)\n",
    "model = nn.Sequential()\n",
    "\n",
    "model.add_module('l1', nn.Linear(in_features=49, out_features=49))\n",
    "model.add_module('n1', nn.Dropout(0.2))\n",
    "model.add_module('a1', nn.Tanh())\n",
    "model.add_module('l2', nn.Linear(in_features=49, out_features=49))\n",
    "model.add_module('n2', nn.Dropout(0.2))\n",
    "model.add_module('a2', nn.Tanh())\n",
    "model.add_module('l3', nn.Linear(in_features=49, out_features=2))\n",
    "model.add_module('a3', nn.Sigmoid())\n",
    "\n",
    "optim = torch.optim.RMSprop(model.parameters(), lr=0.01, alpha=0.5, momentum=0)\n",
    "loss_f = F.cross_entropy\n",
    "loss_history_2 = []\n",
    "\n",
    "for epoch in range(10):\n",
    "    optim.zero_grad()\n",
    "    model.train()\n",
    "\n",
    "    y_pred = model.forward(torch.from_numpy(X_train.to_numpy()).float())\n",
    "    \n",
    "    loss = loss_f(y_pred, torch.from_numpy(y_train.to_numpy()).reshape(-1))\n",
    "    loss.backward()\n",
    "    \n",
    "    optim.step()\n",
    "\n",
    "    loss_history_2.append(loss.item())\n",
    "\n",
    "plt.plot(loss_history_2)\n",
    "f1_2_train = f1_score(y_train, np.argmax(y_pred.detach().numpy(), axis=1), average='macro')\n",
    "f1_train_26.append(f1_2_train)\n",
    "loss_train_26.append(loss_history_2[-1])\n",
    "\n",
    "y_pred = model.forward(torch.from_numpy(X_test.to_numpy()).float())\n",
    "y_pred_metrics = np.argmax(y_pred.detach().numpy(), axis=1)\n",
    "f1_2 = f1_score(y_test, y_pred_metrics, average='macro')\n",
    "f1_test_26.append(f1_2)\n",
    "print(f1_2)\n",
    "loss_test_2 = loss_f(y_pred, torch.from_numpy(y_test.to_numpy()).reshape(-1))\n",
    "loss_test_26.append(loss_test_2.detach().numpy())"
   ]
  },
  {
   "cell_type": "code",
   "execution_count": null,
   "metadata": {
    "colab": {
     "base_uri": "https://localhost:8080/",
     "height": 283
    },
    "executionInfo": {
     "elapsed": 370,
     "status": "ok",
     "timestamp": 1653225106324,
     "user": {
      "displayName": "Денис Урюпин",
      "userId": "09594062879991792072"
     },
     "user_tz": -180
    },
    "id": "f7M5v_sn0oqf",
    "outputId": "1b297bc1-175d-49f4-cc63-08f5f10f710a"
   },
   "outputs": [
    {
     "name": "stdout",
     "output_type": "stream",
     "text": [
      "0.712890625\n"
     ]
    },
    {
     "data": {
      "image/png": "[encoded data removed]",
      "text/plain": [
       "<Figure size 432x288 with 1 Axes>"
      ]
     },
     "metadata": {
      "needs_background": "light"
     },
     "output_type": "display_data"
    }
   ],
   "source": [
    "X_train, X_test, y_train, y_test = train_test_split(data[columns_num + columns_cat], data[target], train_size=0.8)\n",
    "model = nn.Sequential()\n",
    "\n",
    "model.add_module('l1', nn.Linear(in_features=49, out_features=49))\n",
    "model.add_module('n1', nn.Dropout(0.5))\n",
    "model.add_module('a1', nn.Tanh())\n",
    "model.add_module('l2', nn.Linear(in_features=49, out_features=49))\n",
    "model.add_module('n2', nn.Dropout(0.5))\n",
    "model.add_module('a2', nn.Tanh())\n",
    "model.add_module('l3', nn.Linear(in_features=49, out_features=2))\n",
    "model.add_module('a3', nn.Sigmoid())\n",
    "\n",
    "optim = torch.optim.RMSprop(model.parameters(), lr=0.01, alpha=0.5, momentum=0)\n",
    "loss_f = F.cross_entropy\n",
    "loss_history_3 = []\n",
    "\n",
    "for epoch in range(10):\n",
    "    optim.zero_grad()\n",
    "    model.train()\n",
    "\n",
    "    y_pred = model.forward(torch.from_numpy(X_train.to_numpy()).float())\n",
    "    \n",
    "    loss = loss_f(y_pred, torch.from_numpy(y_train.to_numpy()).reshape(-1))\n",
    "    loss.backward()\n",
    "    \n",
    "    optim.step()\n",
    "\n",
    "    loss_history_3.append(loss.item())\n",
    "\n",
    "plt.plot(loss_history_3)\n",
    "f1_3_train = f1_score(y_train, np.argmax(y_pred.detach().numpy(), axis=1), average='macro')\n",
    "f1_train_26.append(f1_3_train)\n",
    "loss_train_26.append(loss_history_3[-1])\n",
    "\n",
    "y_pred = model.forward(torch.from_numpy(X_test.to_numpy()).float())\n",
    "y_pred_metrics = np.argmax(y_pred.detach().numpy(), axis=1)\n",
    "f1_3 = f1_score(y_test, y_pred_metrics, average='macro')\n",
    "f1_test_26.append(f1_3)\n",
    "print(f1_3)\n",
    "loss_test_3 = loss_f(y_pred, torch.from_numpy(y_test.to_numpy()).reshape(-1))\n",
    "loss_test_26.append(loss_test_3.detach().numpy())"
   ]
  },
  {
   "cell_type": "code",
   "execution_count": null,
   "metadata": {
    "colab": {
     "base_uri": "https://localhost:8080/",
     "height": 283
    },
    "executionInfo": {
     "elapsed": 550,
     "status": "ok",
     "timestamp": 1653225109389,
     "user": {
      "displayName": "Денис Урюпин",
      "userId": "09594062879991792072"
     },
     "user_tz": -180
    },
    "id": "GbE2C_xw0owc",
    "outputId": "c27c1519-8c9b-41d6-96e4-fc437d5af136"
   },
   "outputs": [
    {
     "name": "stdout",
     "output_type": "stream",
     "text": [
      "0.6444743029895869\n"
     ]
    },
    {
     "data": {
      "image/png": "[encoded data removed]",
      "text/plain": [
       "<Figure size 432x288 with 1 Axes>"
      ]
     },
     "metadata": {
      "needs_background": "light"
     },
     "output_type": "display_data"
    }
   ],
   "source": [
    "X_train, X_test, y_train, y_test = train_test_split(data[columns_num + columns_cat], data[target], train_size=0.8)\n",
    "model = nn.Sequential()\n",
    "\n",
    "model.add_module('l1', nn.Linear(in_features=49, out_features=49))\n",
    "model.add_module('n1', nn.BatchNorm1d(49))\n",
    "model.add_module('d1', nn.Dropout(0.2))\n",
    "model.add_module('a1', nn.Tanh())\n",
    "model.add_module('l2', nn.Linear(in_features=49, out_features=49))\n",
    "model.add_module('n2', nn.BatchNorm1d(49))\n",
    "model.add_module('d2', nn.Dropout(0.2))\n",
    "model.add_module('a2', nn.Tanh())\n",
    "model.add_module('l3', nn.Linear(in_features=49, out_features=2))\n",
    "model.add_module('a3', nn.Sigmoid())\n",
    "\n",
    "optim = torch.optim.RMSprop(model.parameters(), lr=0.01, alpha=0.5, momentum=0)\n",
    "loss_f = F.cross_entropy\n",
    "loss_history_4 = []\n",
    "\n",
    "for epoch in range(10):\n",
    "    optim.zero_grad()\n",
    "    model.train()\n",
    "\n",
    "    y_pred = model.forward(torch.from_numpy(X_train.to_numpy()).float())\n",
    "    \n",
    "    loss = loss_f(y_pred, torch.from_numpy(y_train.to_numpy()).reshape(-1))\n",
    "    loss.backward()\n",
    "    \n",
    "    optim.step()\n",
    "\n",
    "    loss_history_4.append(loss.item())\n",
    "\n",
    "plt.plot(loss_history_4)\n",
    "f1_4_train = f1_score(y_train, np.argmax(y_pred.detach().numpy(), axis=1), average='macro')\n",
    "f1_train_26.append(f1_4_train)\n",
    "loss_train_26.append(loss_history_4[-1])\n",
    "\n",
    "y_pred = model.forward(torch.from_numpy(X_test.to_numpy()).float())\n",
    "y_pred_metrics = np.argmax(y_pred.detach().numpy(), axis=1)\n",
    "f1_4 = f1_score(y_test, y_pred_metrics, average='macro')\n",
    "f1_test_26.append(f1_4)\n",
    "print(f1_4)\n",
    "loss_test_4 = loss_f(y_pred, torch.from_numpy(y_test.to_numpy()).reshape(-1))\n",
    "loss_test_26.append(loss_test_4.detach().numpy())"
   ]
  },
  {
   "cell_type": "code",
   "execution_count": null,
   "metadata": {
    "colab": {
     "base_uri": "https://localhost:8080/",
     "height": 283
    },
    "executionInfo": {
     "elapsed": 382,
     "status": "ok",
     "timestamp": 1653225112281,
     "user": {
      "displayName": "Денис Урюпин",
      "userId": "09594062879991792072"
     },
     "user_tz": -180
    },
    "id": "Cs8CH3HZ1klS",
    "outputId": "321b1bda-86fe-4d32-f3fa-ebec2d434610"
   },
   "outputs": [
    {
     "name": "stdout",
     "output_type": "stream",
     "text": [
      "0.6393691588785047\n"
     ]
    },
    {
     "data": {
      "image/png": "[encoded data removed]",
      "text/plain": [
       "<Figure size 432x288 with 1 Axes>"
      ]
     },
     "metadata": {
      "needs_background": "light"
     },
     "output_type": "display_data"
    }
   ],
   "source": [
    "X_train, X_test, y_train, y_test = train_test_split(data[columns_num + columns_cat], data[target], train_size=0.8)\n",
    "model = nn.Sequential()\n",
    "\n",
    "model.add_module('l1', nn.Linear(in_features=49, out_features=49))\n",
    "model.add_module('n1', nn.BatchNorm1d(49))\n",
    "model.add_module('d1', nn.Dropout(0.5))\n",
    "model.add_module('a1', nn.Tanh())\n",
    "model.add_module('l2', nn.Linear(in_features=49, out_features=49))\n",
    "model.add_module('n2', nn.BatchNorm1d(49))\n",
    "model.add_module('d2', nn.Dropout(0.5))\n",
    "model.add_module('a2', nn.Tanh())\n",
    "model.add_module('l3', nn.Linear(in_features=49, out_features=2))\n",
    "model.add_module('a3', nn.Sigmoid())\n",
    "\n",
    "optim = torch.optim.RMSprop(model.parameters(), lr=0.01, alpha=0.5, momentum=0)\n",
    "loss_f = F.cross_entropy\n",
    "loss_history_5 = []\n",
    "\n",
    "for epoch in range(10):\n",
    "    optim.zero_grad()\n",
    "    model.train()\n",
    "\n",
    "    y_pred = model.forward(torch.from_numpy(X_train.to_numpy()).float())\n",
    "    \n",
    "    loss = loss_f(y_pred, torch.from_numpy(y_train.to_numpy()).reshape(-1))\n",
    "    loss.backward()\n",
    "    \n",
    "    optim.step()\n",
    "\n",
    "    loss_history_5.append(loss.item())\n",
    "\n",
    "plt.plot(loss_history_5)\n",
    "f1_5_train = f1_score(y_train, np.argmax(y_pred.detach().numpy(), axis=1), average='macro')\n",
    "f1_train_26.append(f1_5_train)\n",
    "loss_train_26.append(loss_history_5[-1])\n",
    "\n",
    "y_pred = model.forward(torch.from_numpy(X_test.to_numpy()).float())\n",
    "y_pred_metrics = np.argmax(y_pred.detach().numpy(), axis=1)\n",
    "f1_5 = f1_score(y_test, y_pred_metrics, average='macro')\n",
    "f1_test_26.append(f1_5)\n",
    "print(f1_5)\n",
    "loss_test_5 = loss_f(y_pred, torch.from_numpy(y_test.to_numpy()).reshape(-1))\n",
    "loss_test_26.append(loss_test_5.detach().numpy())"
   ]
  },
  {
   "cell_type": "markdown",
   "metadata": {
    "id": "ZNANGxtG1t8Q"
   },
   "source": [
    "Отрисовка"
   ]
  },
  {
   "cell_type": "code",
   "execution_count": null,
   "metadata": {
    "colab": {
     "base_uri": "https://localhost:8080/",
     "height": 545
    },
    "executionInfo": {
     "elapsed": 530,
     "status": "ok",
     "timestamp": 1653225115546,
     "user": {
      "displayName": "Денис Урюпин",
      "userId": "09594062879991792072"
     },
     "user_tz": -180
    },
    "id": "6uIEaD_N1o6A",
    "outputId": "897f2cee-f44a-40ff-8be7-da075e8c13e8"
   },
   "outputs": [
    {
     "data": {
      "image/png": "[encoded data removed]",
      "text/plain": [
       "<Figure size 432x288 with 1 Axes>"
      ]
     },
     "metadata": {
      "needs_background": "light"
     },
     "output_type": "display_data"
    },
    {
     "data": {
      "image/png": "[encoded data removed]",
      "text/plain": [
       "<Figure size 432x288 with 1 Axes>"
      ]
     },
     "metadata": {
      "needs_background": "light"
     },
     "output_type": "display_data"
    }
   ],
   "source": [
    "plt.plot(['BatchNorm1d', 'Dropout0.2', 'Dropout0.5' , 'BN+Dropout0.2', 'BN+Dropout 0.5'], loss_train_26)\n",
    "plt.plot(['BatchNorm1d', 'Dropout0.2', 'Dropout0.5' , 'BN+Dropout0.2', 'BN+Dropout 0.5'], loss_test_26)\n",
    "plt.title('loss')\n",
    "plt.legend(['train', 'test'])\n",
    "plt.show()\n",
    "plt.plot(['BatchNorm1d', 'Dropout0.2', 'Dropout0.5' , 'BN+Dropout0.2', 'BN+Dropout0.5'], f1_train_26)\n",
    "plt.plot(['BatchNorm1d', 'Dropout0.2', 'Dropout0.5' , 'BN+Dropout0.2', 'BN+Dropout0.5'], f1_test_26)\n",
    "plt.title('f1')\n",
    "plt.legend(['train', 'test'])\n",
    "plt.show()"
   ]
  },
  {
   "cell_type": "markdown",
   "metadata": {
    "id": "CYtBxIU-Tc2P"
   },
   "source": [
    "## 2.7 Постройте финальную модель\n",
    "\n",
    "Используя информацию, полученную на предыдущих этапах, предложите оптимальную конфигурацию нейронной сети для вашей задачи. Обучите модель."
   ]
  },
  {
   "cell_type": "code",
   "execution_count": null,
   "metadata": {
    "colab": {
     "base_uri": "https://localhost:8080/",
     "height": 283
    },
    "executionInfo": {
     "elapsed": 554,
     "status": "ok",
     "timestamp": 1653225261173,
     "user": {
      "displayName": "Денис Урюпин",
      "userId": "09594062879991792072"
     },
     "user_tz": -180
    },
    "id": "ccY4B2QTTiHs",
    "outputId": "70daa286-61db-408d-8213-9562abeb8b7b"
   },
   "outputs": [
    {
     "name": "stdout",
     "output_type": "stream",
     "text": [
      "0.7680575035063113\n"
     ]
    },
    {
     "data": {
      "image/png": "[encoded data removed]",
      "text/plain": [
       "<Figure size 432x288 with 1 Axes>"
      ]
     },
     "metadata": {
      "needs_background": "light"
     },
     "output_type": "display_data"
    }
   ],
   "source": [
    "X_train, X_test, y_train, y_test = train_test_split(data[columns_num + columns_cat], data[target], train_size=0.8)\n",
    "model = nn.Sequential()\n",
    "\n",
    "model.add_module('l1', nn.Linear(in_features=49, out_features=49))\n",
    "model.add_module('d1', nn.Dropout(0.2))\n",
    "model.add_module('a1', nn.Tanh())\n",
    "model.add_module('l2', nn.Linear(in_features=49, out_features=49))\n",
    "model.add_module('d2', nn.Dropout(0.2))\n",
    "model.add_module('a2', nn.Tanh())\n",
    "model.add_module('l3', nn.Linear(in_features=49, out_features=2))\n",
    "model.add_module('a3', nn.Sigmoid())\n",
    "optim = torch.optim.RMSprop(model.parameters(), lr=0.01, alpha=0.2, momentum=0)\n",
    "loss_f = F.cross_entropy\n",
    "loss_history = []\n",
    "\n",
    "for epoch in range(10):\n",
    "    optim.zero_grad()\n",
    "    model.train()\n",
    "\n",
    "    y_pred = model.forward(torch.from_numpy(X_train.to_numpy()).float())\n",
    "    \n",
    "    loss = loss_f(y_pred, torch.from_numpy(y_train.to_numpy()).reshape(-1))\n",
    "    loss.backward()\n",
    "    \n",
    "    optim.step()\n",
    "\n",
    "    loss_history.append(loss.item())\n",
    "\n",
    "plt.plot(loss_history)\n",
    "\n",
    "y_pred = model.forward(torch.from_numpy(X_test.to_numpy()).float())\n",
    "y_pred_metrics = np.argmax(y_pred.detach().numpy(), axis=1)\n",
    "f1 = f1_score(y_test, y_pred_metrics, average='macro')\n",
    "print(f1)"
   ]
  },
  {
   "cell_type": "markdown",
   "metadata": {
    "id": "9YdprgXnTiST"
   },
   "source": [
    "## 2.8 Выводы\n",
    "\n",
    "*Your beautiful thoughts:*"
   ]
  },
  {
   "cell_type": "markdown",
   "metadata": {
    "id": "Q1xSDjRzu4--"
   },
   "source": [
    "В данной задаче ситуация несколько лучше, чем в первой. Была получена нужная оценка точность, причем железная, а не переодически появляющаяся. \n",
    "В среднем модель показывает 0.74 (максимум 0.79). Однако здесь очень часто во время вножественных спытаниях вылезала проблема переобучения. Например при 4 слоях. Что явно указывает нам, что данная задача не хочет решения с помощью нейронной сети. А требует что-то более простое, например обычную логрегрессию."
   ]
  },
  {
   "cell_type": "code",
   "execution_count": null,
   "metadata": {
    "id": "Cl24iumEKXXd"
   },
   "outputs": [],
   "source": []
  }
 ],
 "metadata": {
  "colab": {
   "collapsed_sections": [],
   "name": " \" Домашнее задание 2. Нейронные сети.Урюпин.ipynb\"",
   "provenance": [
    {
     "file_id": "1vCtMz2G9aQWz7iVeaxa1O8BE0wLBrGad",
     "timestamp": 1653047487872
    },
    {
     "file_id": "1Cvxy-VPKPSt_O6PxwwrBt8Mzb-8NMlfG",
     "timestamp": 1650804240968
    }
   ]
  },
  "kernelspec": {
   "display_name": "Python 3",
   "language": "python",
   "name": "python3"
  },
  "language_info": {
   "name": "python"
  }
 },
 "nbformat": 4,
 "nbformat_minor": 1
}
